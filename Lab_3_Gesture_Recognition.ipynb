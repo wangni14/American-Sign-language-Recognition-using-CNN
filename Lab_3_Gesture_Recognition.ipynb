{
  "nbformat": 4,
  "nbformat_minor": 0,
  "metadata": {
    "colab": {
      "name": "Lab_3_Gesture_Recognition.ipynb",
      "provenance": [],
      "collapsed_sections": []
    },
    "kernelspec": {
      "display_name": "Python 3",
      "language": "python",
      "name": "python3"
    },
    "language_info": {
      "codemirror_mode": {
        "name": "ipython",
        "version": 3
      },
      "file_extension": ".py",
      "mimetype": "text/x-python",
      "name": "python",
      "nbconvert_exporter": "python",
      "pygments_lexer": "ipython3",
      "version": "3.7.4"
    },
    "accelerator": "GPU"
  },
  "cells": [
    {
      "cell_type": "markdown",
      "metadata": {
        "id": "X6WDvajSqIDs"
      },
      "source": [
        "# Lab 3: Gesture Recognition using Convolutional Neural Networks\n",
        "\n",
        "**Deadlines**: \n",
        "\n",
        "- Lab 3 Part A: Oct 15, 11:59pm\n",
        "- Lab 3 Part B: Oct 22, 11:59pm\n",
        "\n",
        "**Late Penalty**: There is a penalty-free grace period of one hour past the deadline. Any work that is submitted between 1 hour and 24 hours past the deadline will receive a 20% grade deduction. No other late work is accepted. Quercus submission time will be used, not your local computer time. You can submit your labs as many times as you want before the deadline, so please submit often and early.\n",
        "\n",
        "**Grading TAs**: \n",
        "- Lab 3 Part A: Geoff Donoghue  \n",
        "- Lab 3 Part B: Geoff Donoghue\n",
        "\n",
        "This lab is based on an assignment developed by Prof. Lisa Zhang.\n",
        "\n",
        "This lab will be completed in two parts. In Part A you will you will gain experience gathering your own data set (specifically images of hand gestures), and understand the challenges involved in the data cleaning process. In Part B you will train a convolutional neural network to make classifications on different hand gestures. By the end of the lab, you should be able to:\n",
        "\n",
        "1. Generate and preprocess your own data\n",
        "2. Load and split data for training, validation and testing\n",
        "3. Train a Convolutional Neural Network\n",
        "4. Apply transfer learning to improve your model\n",
        "\n",
        "Note that for this lab we will not be providing you with any starter code. You should be able to take the code used in previous labs, tutorials and lectures and modify it accordingly to complete the tasks outlined below.\n",
        "\n",
        "### What to submit\n",
        "\n",
        "**Submission for Part A:**  \n",
        "Submit a zip file containing your images. Three images each of American Sign Language gestures for letters A - I (total of 27 images). You will be required to clean the images before submitting them. Details are provided under Part A of the handout.\n",
        "\n",
        "Individual image file names should follow the convention of student-number_Alphabet_file-number.jpg\n",
        "(e.g. 100343434_A_1.jpg).\n",
        "\n",
        "\n",
        "**Submission for Part B:**  \n",
        "Submit a PDF file containing all your code, outputs, and write-up\n",
        "from parts 1-5. You can produce a PDF of your Google Colab file by\n",
        "going to **File > Print** and then save as PDF. The Colab instructions\n",
        "has more information. Make sure to review the PDF submission to ensure that your answers are easy to read. Make sure that your text is not cut off at the margins. \n",
        "\n",
        "**Do not submit any other files produced by your code.**\n",
        "\n",
        "Include a link to your colab file in your submission.\n",
        "\n",
        "Please use Google Colab to complete this assignment. If you want to use Jupyter Notebook, please complete the assignment and upload your Jupyter Notebook file to Google Colab for submission. "
      ]
    },
    {
      "cell_type": "markdown",
      "metadata": {
        "id": "LfiFE_WOqIDu"
      },
      "source": [
        "## Colab Link\n",
        "\n",
        "Include a link to your colab file here\n",
        "\n",
        "Colab Link: "
      ]
    },
    {
      "cell_type": "markdown",
      "metadata": {
        "id": "kvTXpH_kqIDy"
      },
      "source": [
        "## Part A. Data Collection [10 pt]\n",
        "\n",
        "So far, we have worked with data sets that have been collected, cleaned, and curated by machine learning\n",
        "researchers and practitioners. Datasets like MNIST and CIFAR are often used as toy examples, both by\n",
        "students and by researchers testing new machine learning models.\n",
        "\n",
        "In the real world, getting a clean data set is never that easy. More than half the work in applying machine\n",
        "learning is finding, gathering, cleaning, and formatting your data set.\n",
        "\n",
        "The purpose of this lab is to help you gain experience gathering your own data set, and understand the\n",
        "challenges involved in the data cleaning process.\n",
        "\n",
        "### American Sign Language\n",
        "\n",
        "American Sign Language (ASL) is a complete, complex language that employs signs made by moving the\n",
        "hands combined with facial expressions and postures of the body. It is the primary language of many\n",
        "North Americans who are deaf and is one of several communication options used by people who are deaf or\n",
        "hard-of-hearing.\n",
        "\n",
        "The hand gestures representing English alphabet are shown below. This lab focuses on classifying a subset\n",
        "of these hand gesture images using convolutional neural networks. Specifically, given an image of a hand\n",
        "showing one of the letters A-I, we want to detect which letter is being represented.\n",
        "\n",
        "![alt text](https://www.disabled-world.com/pics/1/asl-alphabet.jpg)\n",
        "\n",
        "\n",
        "### Generating Data\n",
        "We will produce the images required for this lab by ourselves. Each student will collect, clean and submit\n",
        "three images each of Americal Sign Language gestures for letters A - I (total of 27 images)\n",
        "Steps involved in data collection\n",
        "\n",
        "1. Familiarize yourself with American Sign Language gestures for letters from A - I (9 letters).\n",
        "2. Take three pictures at slightly different orientation for each letter gesture using your\n",
        "mobile phone.\n",
        " - Ensure adequate lighting while you are capturing the images.\n",
        " - Use a white wall as your background.\n",
        " - Use your right hand to create gestures (for consistency).\n",
        " - Keep your right hand fairly apart from your body and any other obstructions.\n",
        " - Avoid having shadows on parts of your hand.\n",
        "3. Transfer the images to your laptop for cleaning.\n",
        "\n",
        "### Cleaning Data\n",
        "To simplify the machine learning the task, we will standardize the training images. We will make sure that\n",
        "all our images are of the same size (224 x 224 pixels RGB), and have the hand in the center of the cropped\n",
        "regions.\n",
        "\n",
        "You may use the following applications to crop and resize your images:\n",
        "\n",
        "**Mac**\n",
        "- Use Preview:\n",
        "– Holding down CMD + Shift will keep a square aspect ratio while selecting the hand area.\n",
        "– Resize to 224x224 pixels.\n",
        "\n",
        "**Windows 10**\n",
        "- Use Photos app to edit and crop the image and keep the aspect ratio a square.\n",
        "- Use Paint to resize the image to the final image size of 224x224 pixels.\n",
        "\n",
        "**Linux**\n",
        "- You can use GIMP, imagemagick, or other tools of your choosing.\n",
        "You may also use online tools such as http://picresize.com\n",
        "All the above steps are illustrative only. You need not follow these steps but following these will ensure that\n",
        "you produce a good quality dataset. You will be judged based on the quality of the images alone.\n",
        "Please do not edit your photos in any other way. You should not need to change the aspect ratio of your\n",
        "image. You also should not digitally remove the background or shadows—instead, take photos with a white\n",
        "background and minimal shadows.\n",
        "\n",
        "### Accepted Images\n",
        "Images will be accepted and graded based on the criteria below\n",
        "1. The final image should be size 224x224 pixels (RGB).\n",
        "2. The file format should be a .jpg file.\n",
        "3. The hand should be approximately centered on the frame.\n",
        "4. The hand should not be obscured or cut off.\n",
        "5. The photos follows the ASL gestures posted earlier.\n",
        "6. The photos were not edited in any other way (e.g. no electronic removal of shadows or background).\n",
        "\n",
        "### Submission\n",
        "Submit a zip file containing your images. There should be a total of 27 images (3 for each category)\n",
        "1. Individual image file names should follow the convention of student-number_Alphabet_file-number.jpg\n",
        "(e.g. 100343434_A_1.jpg)\n",
        "2. Zip all the images together and name it with the following convention: last-name_student-number.zip\n",
        "(e.g. last-name_100343434.zip).\n",
        "3. Submit the zipped folder.\n",
        "We will be anonymizing and combining the images that everyone submits. We will announce when the\n",
        "combined data set will be available for download.\n",
        "\n",
        "![alt text](https://github.com/UTNeural/APS360/blob/master/Gesture%20Images.PNG?raw=true)"
      ]
    },
    {
      "cell_type": "markdown",
      "metadata": {
        "id": "bJxMgWGNqID2"
      },
      "source": [
        "## Part B. Building a CNN [50 pt]\n",
        "\n",
        "For this lab, we are not going to give you any starter code. You will be writing a convolutional neural network\n",
        "from scratch. You are welcome to use any code from previous labs, lectures and tutorials. You should also\n",
        "write your own code.\n",
        "\n",
        "You may use the PyTorch documentation freely. You might also find online tutorials helpful. However, all\n",
        "code that you submit must be your own.\n",
        "\n",
        "Make sure that your code is vectorized, and does not contain obvious inefficiencies (for example, unecessary\n",
        "for loops, or unnecessary calls to unsqueeze()). Ensure enough comments are included in the code so that\n",
        "your TA can understand what you are doing. It is your responsibility to show that you understand what you\n",
        "write.\n",
        "\n",
        "**This is much more challenging and time-consuming than the previous labs.** Make sure that you\n",
        "give yourself plenty of time by starting early."
      ]
    },
    {
      "cell_type": "markdown",
      "metadata": {
        "id": "MiDuQaAh56sT"
      },
      "source": [
        "### 1. Data Loading and Splitting [5 pt]\n",
        "\n",
        "Download the anonymized data provided on Quercus. To allow you to get a heads start on this project we will provide you with sample data from previous years. Split the data into training, validation, and test sets.\n",
        "\n",
        "Note: Data splitting is not as trivial in this lab. We want our test set to closely resemble the setting in which\n",
        "our model will be used. In particular, our test set should contain hands that are never seen in training!\n",
        "\n",
        "Explain how you split the data, either by describing what you did, or by showing the code that you used.\n",
        "Justify your choice of splitting strategy. How many training, validation, and test images do you have?\n",
        "\n",
        "For loading the data, you can use plt.imread as in Lab 1, or any other method that you choose. You may find\n",
        "torchvision.datasets.ImageFolder helpful. (see https://pytorch.org/docs/master/torchvision/datasets.html#imagefolder\n",
        ") "
      ]
    },
    {
      "cell_type": "code",
      "metadata": {
        "id": "WBrH5kBqRLa6",
        "outputId": "f036e232-0798-422e-b892-ef0908787f57",
        "colab": {
          "base_uri": "https://localhost:8080/",
          "height": 34
        }
      },
      "source": [
        "import os\n",
        "import numpy as np\n",
        "import torch\n",
        "import torchvision\n",
        "from torchvision import datasets, models, transforms\n",
        "import matplotlib.pyplot as plt\n",
        "# mount our Google Drive\n",
        "from google.colab import drive\n",
        "drive.mount('/content/drive')\n",
        "# define training and test data directories\n",
        "data_dir = '/content/drive/My Drive/Colab Notebooks/Lab_3b_Gesture_Dataset/'\n",
        "data_resize = transforms.Compose([transforms.Resize((224, 224)), transforms.ToTensor()])\n",
        "dataset_class = datasets.ImageFolder(data_dir,transform=data_resize)\n",
        "Letter_class = [\"A\",'B','C','D','E','F','G','H','I']\n",
        "def get_data_loader(batch_size = 27):\n",
        " # Split into train and validation and test\n",
        "  indices = []\n",
        "  for i in range(len(dataset_class)):\n",
        "    indices.append(i)\n",
        "  print(\"the length of data set is \",len(indices)) ##Chceking the length of dataset\n",
        "  np.random.seed(1000) # manual random seed for same output everytime\n",
        "  np.random.shuffle(indices) #make sure the data is shuffled to avoid overfitting\n",
        "  split0 = int(len(indices) * 0.7)#70% training data\n",
        "  #print(\"check 70% of dataset is used for training\", split0)\n",
        "  split1 = int(len(indices) * 0.9)#10% for testing data\n",
        "  train_indices=indices[:split0]#training=70%,\n",
        "  val_indices=indices[split0:split1]#validation=20%,\n",
        "  test_indices = indices[split1:]# testing=10%\n",
        "  print(\"length of train indices is \",len(train_indices))\n",
        "  print(\"length of val indices is \",len(val_indices))\n",
        "  train_sampler = SubsetRandomSampler(train_indices)\n",
        "  ##print(len(train_sampler))\n",
        "  train_loader = torch.utils.data.DataLoader(dataset_class, batch_size=batch_size, sampler=SubsetRandomSampler(train_indices))\n",
        "  ## Set num of workers to increase performance\n",
        "  val_sampler = SubsetRandomSampler(val_indices)\n",
        "  ##print(len(val_sampler))\n",
        "  val_loader = torch.utils.data.DataLoader(dataset_class, batch_size=batch_size, sampler=SubsetRandomSampler(val_indices))\n",
        "\n",
        "  test_sampler = SubsetRandomSampler(test_indices)\n",
        "  ##print(len(test_sampler))\n",
        "  test_loader = torch.utils.data.DataLoader(dataset_class, batch_size=batch_size, sampler=SubsetRandomSampler(test_indices))\n",
        "\n",
        " # print out some data stats\n",
        "  print(\"Batch size is \",batch_size)\n",
        "  print('Num of batch of training images: ', len(train_loader))\n",
        "  print('Num of batch of testing images: ', len(test_loader))\n",
        "  print('Num of batch of validation images: ', len(val_loader))\n",
        "  return train_loader,val_loader,test_loader\n"
      ],
      "execution_count": null,
      "outputs": [
        {
          "output_type": "stream",
          "text": [
            "Mounted at /content/drive\n"
          ],
          "name": "stdout"
        }
      ]
    },
    {
      "cell_type": "markdown",
      "metadata": {
        "id": "5VWX4DGY5gQE"
      },
      "source": [
        "### 2. Model Building and Sanity Checking [15 pt]\n",
        "\n",
        "### Part (a) Convolutional Network - 5 pt\n",
        "\n",
        "Build a convolutional neural network model that takes the (224x224 RGB) image as input, and predicts the gesture\n",
        "letter. Your model should be a subclass of nn.Module. Explain your choice of neural network architecture: how\n",
        "many layers did you choose? What types of layers did you use? Were they fully-connected or convolutional?\n",
        "What about other decisions like pooling layers, activation functions, number of channels / hidden units?"
      ]
    },
    {
      "cell_type": "code",
      "metadata": {
        "id": "2dtx1z5951fS"
      },
      "source": [
        "import numpy as np\n",
        "import time\n",
        "import torch\n",
        "import torch.nn as nn\n",
        "import torch.nn.functional as F\n",
        "import torch.optim as optim\n",
        "import torchvision\n",
        "from torch.utils.data.sampler import SubsetRandomSampler\n",
        "import torchvision.transforms as transforms\n",
        "\n",
        "class CNN_Net(nn.Module):\n",
        " def __init__(self):\n",
        "   super(CNN_Net, self).__init__()\n",
        "   self.name = \"CNN_Net\"# right now 3*224*224\n",
        "   self.conv1 = nn.Conv2d(3, 5, 5) # 3 in_channel,5 by 5. 224-5+1=220\n",
        "   self.pool = nn.MaxPool2d(2, 2) #kernel_size, stride  right now 5*110*110\n",
        "   self.conv2 = nn.Conv2d(5, 10, 5) #5 in_channels,10 by 5 110-5+1 =106 right now 10*106*106\n",
        "   #maxpool 10*53*53\n",
        "   self.fc1 = nn.Linear(10*53*53, 180) # 10*53*53 flatten, then becomes 100 units\n",
        "   self.fc2 = nn.Linear(180, 9)  #classify into 9 classes.\n",
        " def forward(self, x):\n",
        "   x = self.pool(F.relu(self.conv1(x)))\n",
        "   x = self.pool(F.relu(self.conv2(x)))\n",
        "   x = x.view(-1, 10*53*53)\n",
        "   x = F.relu(self.fc1(x))\n",
        "   x = self.fc2(x)\n",
        "   return x"
      ],
      "execution_count": null,
      "outputs": []
    },
    {
      "cell_type": "markdown",
      "metadata": {
        "id": "urxT6h7oVY9Y"
      },
      "source": [
        "In my model, there are 2 convolutional layers, 2 max pooling layers and 2 flatten layers. Hence, it's a 6-layer model. I have chosen ReLu to be the activation function just like previous labs. For conv1, number of input channel is 3, output channel is 5, kernel size is 5. For conv2, number of input channel is 5, output channel is 10, kernel size is 5. For fc1, number of hidden units is 53*53*10 as calculated in the steps commented above. For fc2, number of hidden units is 180."
      ]
    },
    {
      "cell_type": "markdown",
      "metadata": {
        "id": "XeGvelvb515e"
      },
      "source": [
        "### Part (b) Training Code - 5 pt\n",
        "\n",
        "Write code that trains your neural network given some training data. Your training code should make it easy\n",
        "to tweak the usual hyperparameters, like batch size, learning rate, and the model object itself. Make sure\n",
        "that you are checkpointing your models from time to time (the frequency is up to you). Explain your choice\n",
        "of loss function and optimizer."
      ]
    },
    {
      "cell_type": "code",
      "metadata": {
        "id": "d7EiQPs1psqn"
      },
      "source": [
        "def get_accuracy(model, train=False, test=False):\n",
        "    #train_loader = torch.utils.data.DataLoader(dataset_class) #setting to fit small data set\n",
        "    #val_loader=torch.utils.data.DataLoader(dataset_class) #setting to fit small data set\n",
        "    #test_loader=torch.utils.data.DataLoader(dataset_class)#setting to fit small data set\n",
        "\n",
        "    if train:\n",
        "        data_loader = train_loader\n",
        "    else:\n",
        "        data_loader = val_loader\n",
        "    if test:\n",
        "        data_loader = test_loader\n",
        "\n",
        "      \n",
        "    correct = 0\n",
        "    total = 0\n",
        "    for imgs, labels in data_loader:\n",
        "      \n",
        "      #############################################\n",
        "      #To Enable GPU Usage\n",
        "      if use_cuda and torch.cuda.is_available():\n",
        "        imgs = imgs.cuda()\n",
        "        labels = labels.cuda()\n",
        "      #############################################\n",
        "      output = model(imgs)\n",
        "      #select index with maximum prediction score\n",
        "      pred = output.max(1, keepdim=True)[1]\n",
        "      correct += pred.eq(labels.view_as(pred)).sum().item()\n",
        "      total += imgs.shape[0]\n",
        "    return correct / total"
      ],
      "execution_count": null,
      "outputs": []
    },
    {
      "cell_type": "code",
      "metadata": {
        "id": "i8Stl-alpt6j"
      },
      "source": [
        "def train(model, batch_size=27,learning_rate = 0.01, num_epochs=1):\n",
        "    print(batch_size)\n",
        "    criterion = nn.CrossEntropyLoss()\n",
        "    optimizer = optim.Adam(model.parameters(), lr=learning_rate)\n",
        "    #optimizer = optim.SGD(model.parameters(), lr=learning_rate,momentum=1.2)\n",
        "\n",
        "    \n",
        "    epochs,iters, losses, train_acc, val_acc = [], [], [], [],[]\n",
        "    torch.manual_seed(1000)\n",
        "    # training\n",
        "    n = 0 # the number of iterations\n",
        "    for epoch in range(num_epochs):\n",
        "        total_train_loss = 0.0\n",
        "        total_train_err = 0.0\n",
        "        total_epoch = 0\n",
        "        correct = 0\n",
        "        total = 0\n",
        "        train_acc_each_epoch = 0\n",
        "        a = 0\n",
        "       \n",
        "        for imgs, labels in iter(train_loader):\n",
        "            #############################################\n",
        "            #To Enable GPU Usage\n",
        "            if use_cuda and torch.cuda.is_available():\n",
        "              imgs = imgs.cuda()\n",
        "              labels = labels.cuda()\n",
        "            #############################################\n",
        "            \n",
        "            \n",
        "            out = model(imgs)             # forward pass\n",
        "            loss = criterion(out, labels) # compute the total loss\n",
        "            loss.backward()               # backward pass (compute parameter updates)\n",
        "            optimizer.step()              # make the updates for each parameter\n",
        "            optimizer.zero_grad()         # a clean up step for PyTorch\n",
        "\n",
        "            \n",
        "            # save the current training information\n",
        "            iters.append(n)\n",
        "            losses.append(float(loss)/batch_size)             # compute *average* loss\n",
        "            n += 1\n",
        "            a += 1\n",
        "            \n",
        "        epochs.append(epoch)\n",
        "        train_acc_each_epoch = get_accuracy(model, train=True)\n",
        "        train_acc.append(train_acc_each_epoch)\n",
        "        val_acc_each_epoch = get_accuracy(model, train=False)\n",
        "        val_acc.append(val_acc_each_epoch)\n",
        "        print((\"Epoch {}: Train accuracy: {},|\"+\n",
        "               \"Validation accuracy: {}\").format(\n",
        "                   epoch + 1,\n",
        "                   train_acc_each_epoch,\n",
        "                   val_acc_each_epoch))\n",
        "\n",
        "    losses_epoch = losses[0::a]\n",
        "    # plotting\n",
        "    plt.title(\"Training Curve\")\n",
        "    plt.plot(epochs, losses_epoch, label=\"Train\")\n",
        "    plt.xlabel(\"Iterations\")\n",
        "    plt.ylabel(\"Loss\")\n",
        "    plt.show()\n",
        "\n",
        "    plt.title(\"Training Curve\")\n",
        "    plt.plot(epochs, train_acc, label=\"Train\")\n",
        "    plt.plot(epochs, val_acc, label=\"Validation\")\n",
        "    plt.xlabel(\"Iterations\")\n",
        "    plt.ylabel(\"Training Accuracy\")\n",
        "    plt.legend(loc='best')\n",
        "    plt.show()\n",
        "\n",
        "    print(\"Final Training Accuracy: {}\".format(train_acc[-1]))\n",
        "    print(\"Number of iteration is: \",n)\n",
        "      \n",
        "      \n",
        "    "
      ],
      "execution_count": null,
      "outputs": []
    },
    {
      "cell_type": "markdown",
      "metadata": {
        "id": "99pFxK3TgPZA"
      },
      "source": [
        "1.Choice of Loss Function: CrossEntropyLoss\n",
        "\n",
        "CrossEntropyLoss function is a loss function used for multi-class classification problem and it's commonly used in the previous labs and tutorials.\n",
        "\n",
        "2.Opimizer: SGD\n",
        "\n",
        "The optimizer I chosed for the model is the Adam optimization algorithm model. It outperforms the classic stochastic gradient descent used in lecutreus and previous labs because it is an extension of the SGD algorithm. While SGD is a good opimizer for multi-class classification problem, Adam updates the weights  iteratively based on the training data. Therefore, I choose Adam to be my optimizer."
      ]
    },
    {
      "cell_type": "markdown",
      "metadata": {
        "id": "bk1RNgAj54rZ"
      },
      "source": [
        "### Part (c) “Overfit” to a Small Dataset - 5 pt\n",
        "\n",
        "One way to sanity check our neural network model and training code is to check whether the model is capable\n",
        "of “overfitting” or “memorizing” a small dataset. A properly constructed CNN with correct training code\n",
        "should be able to memorize the answers to a small number of images quickly.\n",
        "\n",
        "Construct a small dataset (e.g. just the images that you have collected). Then show that your model and\n",
        "training code is capable of memorizing the labels of this small data set.\n",
        "\n",
        "With a large batch size (e.g. the entire small dataset) and learning rate that is not too high, You should be\n",
        "able to obtain a 100% training accuracy on that small dataset relatively quickly (within 200 iterations)."
      ]
    },
    {
      "cell_type": "code",
      "metadata": {
        "id": "lXYRBhQO6d3u",
        "outputId": "7bbd3069-5617-4123-c614-4d62fde78747",
        "colab": {
          "base_uri": "https://localhost:8080/",
          "height": 51
        }
      },
      "source": [
        "import os\n",
        "import numpy as np\n",
        "import torch\n",
        "import torchvision\n",
        "from torchvision import datasets, models, transforms\n",
        "import matplotlib.pyplot as plt\n",
        "\n",
        "\n",
        "# mount our Google Drive\n",
        "from google.colab import drive\n",
        "drive.mount('/content/drive')\n",
        "# define training and test data directories\n",
        "data_dir = '/content/drive/My Drive/Colab Notebooks/lab_3b_Small_Dataset/'\n",
        "classes = [\"A\",'B','C','D','E','F','G','H','I']\n",
        "#Image handling and pass it to the train function.\n",
        "data_resize = transforms.Compose([transforms.Resize((224, 224)), transforms.ToTensor()])\n",
        "dataset_class = datasets.ImageFolder(data_dir,transform=data_resize)\n",
        "print('Num training images: ', len(dataset_class))"
      ],
      "execution_count": null,
      "outputs": [
        {
          "output_type": "stream",
          "text": [
            "Drive already mounted at /content/drive; to attempt to forcibly remount, call drive.mount(\"/content/drive\", force_remount=True).\n",
            "Num training images:  27\n"
          ],
          "name": "stdout"
        }
      ]
    },
    {
      "cell_type": "code",
      "metadata": {
        "id": "lcsNRHKUoNW3",
        "outputId": "f245c244-e9df-48fa-a4e0-f17317d131ef",
        "colab": {
          "base_uri": "https://localhost:8080/",
          "height": 1000
        }
      },
      "source": [
        "use_cuda=False\n",
        "test_model = CNN_Net()\n",
        "train(test_model,batch_size = 27,num_epochs = 199)"
      ],
      "execution_count": null,
      "outputs": [
        {
          "output_type": "stream",
          "text": [
            "Epoch 1: Train accuracy: 0.1111111111111111,|Validation accuracy: 0.1111111111111111\n",
            "Epoch 2: Train accuracy: 0.3333333333333333,|Validation accuracy: 0.3333333333333333\n",
            "Epoch 3: Train accuracy: 0.1111111111111111,|Validation accuracy: 0.1111111111111111\n",
            "Epoch 4: Train accuracy: 0.1111111111111111,|Validation accuracy: 0.1111111111111111\n",
            "Epoch 5: Train accuracy: 0.1111111111111111,|Validation accuracy: 0.1111111111111111\n",
            "Epoch 6: Train accuracy: 0.1111111111111111,|Validation accuracy: 0.1111111111111111\n",
            "Epoch 7: Train accuracy: 0.1111111111111111,|Validation accuracy: 0.1111111111111111\n",
            "Epoch 8: Train accuracy: 0.1111111111111111,|Validation accuracy: 0.1111111111111111\n",
            "Epoch 9: Train accuracy: 0.14814814814814814,|Validation accuracy: 0.14814814814814814\n",
            "Epoch 10: Train accuracy: 0.1111111111111111,|Validation accuracy: 0.1111111111111111\n",
            "Epoch 11: Train accuracy: 0.18518518518518517,|Validation accuracy: 0.18518518518518517\n",
            "Epoch 12: Train accuracy: 0.25925925925925924,|Validation accuracy: 0.25925925925925924\n",
            "Epoch 13: Train accuracy: 0.6666666666666666,|Validation accuracy: 0.6666666666666666\n",
            "Epoch 14: Train accuracy: 0.1111111111111111,|Validation accuracy: 0.1111111111111111\n",
            "Epoch 15: Train accuracy: 0.1111111111111111,|Validation accuracy: 0.1111111111111111\n",
            "Epoch 16: Train accuracy: 0.48148148148148145,|Validation accuracy: 0.48148148148148145\n",
            "Epoch 17: Train accuracy: 0.4444444444444444,|Validation accuracy: 0.4444444444444444\n",
            "Epoch 18: Train accuracy: 0.5925925925925926,|Validation accuracy: 0.5925925925925926\n",
            "Epoch 19: Train accuracy: 0.5555555555555556,|Validation accuracy: 0.5555555555555556\n",
            "Epoch 20: Train accuracy: 0.3333333333333333,|Validation accuracy: 0.3333333333333333\n",
            "Epoch 21: Train accuracy: 0.8888888888888888,|Validation accuracy: 0.8888888888888888\n",
            "Epoch 22: Train accuracy: 0.5925925925925926,|Validation accuracy: 0.5925925925925926\n",
            "Epoch 23: Train accuracy: 0.5925925925925926,|Validation accuracy: 0.5925925925925926\n",
            "Epoch 24: Train accuracy: 0.7777777777777778,|Validation accuracy: 0.7777777777777778\n",
            "Epoch 25: Train accuracy: 0.7777777777777778,|Validation accuracy: 0.7777777777777778\n",
            "Epoch 26: Train accuracy: 0.48148148148148145,|Validation accuracy: 0.48148148148148145\n",
            "Epoch 27: Train accuracy: 0.8148148148148148,|Validation accuracy: 0.8148148148148148\n",
            "Epoch 28: Train accuracy: 0.7777777777777778,|Validation accuracy: 0.7777777777777778\n",
            "Epoch 29: Train accuracy: 0.7037037037037037,|Validation accuracy: 0.7037037037037037\n",
            "Epoch 30: Train accuracy: 0.6296296296296297,|Validation accuracy: 0.6296296296296297\n",
            "Epoch 31: Train accuracy: 0.5925925925925926,|Validation accuracy: 0.5925925925925926\n",
            "Epoch 32: Train accuracy: 0.6296296296296297,|Validation accuracy: 0.6296296296296297\n",
            "Epoch 33: Train accuracy: 0.6666666666666666,|Validation accuracy: 0.6666666666666666\n",
            "Epoch 34: Train accuracy: 0.6666666666666666,|Validation accuracy: 0.6666666666666666\n",
            "Epoch 35: Train accuracy: 0.7777777777777778,|Validation accuracy: 0.7777777777777778\n",
            "Epoch 36: Train accuracy: 0.5555555555555556,|Validation accuracy: 0.5555555555555556\n",
            "Epoch 37: Train accuracy: 0.8888888888888888,|Validation accuracy: 0.8888888888888888\n",
            "Epoch 38: Train accuracy: 1.0,|Validation accuracy: 1.0\n",
            "Epoch 39: Train accuracy: 1.0,|Validation accuracy: 1.0\n",
            "Epoch 40: Train accuracy: 1.0,|Validation accuracy: 1.0\n",
            "Epoch 41: Train accuracy: 1.0,|Validation accuracy: 1.0\n",
            "Epoch 42: Train accuracy: 1.0,|Validation accuracy: 1.0\n",
            "Epoch 43: Train accuracy: 1.0,|Validation accuracy: 1.0\n",
            "Epoch 44: Train accuracy: 1.0,|Validation accuracy: 1.0\n",
            "Epoch 45: Train accuracy: 1.0,|Validation accuracy: 1.0\n",
            "Epoch 46: Train accuracy: 1.0,|Validation accuracy: 1.0\n",
            "Epoch 47: Train accuracy: 1.0,|Validation accuracy: 1.0\n",
            "Epoch 48: Train accuracy: 0.9259259259259259,|Validation accuracy: 0.9259259259259259\n",
            "Epoch 49: Train accuracy: 1.0,|Validation accuracy: 1.0\n",
            "Epoch 50: Train accuracy: 1.0,|Validation accuracy: 1.0\n",
            "Epoch 51: Train accuracy: 1.0,|Validation accuracy: 1.0\n",
            "Epoch 52: Train accuracy: 1.0,|Validation accuracy: 1.0\n",
            "Epoch 53: Train accuracy: 1.0,|Validation accuracy: 1.0\n",
            "Epoch 54: Train accuracy: 1.0,|Validation accuracy: 1.0\n",
            "Epoch 55: Train accuracy: 1.0,|Validation accuracy: 1.0\n",
            "Epoch 56: Train accuracy: 1.0,|Validation accuracy: 1.0\n",
            "Epoch 57: Train accuracy: 1.0,|Validation accuracy: 1.0\n",
            "Epoch 58: Train accuracy: 1.0,|Validation accuracy: 1.0\n",
            "Epoch 59: Train accuracy: 1.0,|Validation accuracy: 1.0\n",
            "Epoch 60: Train accuracy: 1.0,|Validation accuracy: 1.0\n",
            "Epoch 61: Train accuracy: 1.0,|Validation accuracy: 1.0\n",
            "Epoch 62: Train accuracy: 1.0,|Validation accuracy: 1.0\n",
            "Epoch 63: Train accuracy: 1.0,|Validation accuracy: 1.0\n",
            "Epoch 64: Train accuracy: 1.0,|Validation accuracy: 1.0\n",
            "Epoch 65: Train accuracy: 1.0,|Validation accuracy: 1.0\n",
            "Epoch 66: Train accuracy: 1.0,|Validation accuracy: 1.0\n",
            "Epoch 67: Train accuracy: 1.0,|Validation accuracy: 1.0\n",
            "Epoch 68: Train accuracy: 1.0,|Validation accuracy: 1.0\n",
            "Epoch 69: Train accuracy: 1.0,|Validation accuracy: 1.0\n",
            "Epoch 70: Train accuracy: 1.0,|Validation accuracy: 1.0\n",
            "Epoch 71: Train accuracy: 1.0,|Validation accuracy: 1.0\n",
            "Epoch 72: Train accuracy: 1.0,|Validation accuracy: 1.0\n",
            "Epoch 73: Train accuracy: 1.0,|Validation accuracy: 1.0\n",
            "Epoch 74: Train accuracy: 1.0,|Validation accuracy: 1.0\n",
            "Epoch 75: Train accuracy: 1.0,|Validation accuracy: 1.0\n",
            "Epoch 76: Train accuracy: 1.0,|Validation accuracy: 1.0\n",
            "Epoch 77: Train accuracy: 1.0,|Validation accuracy: 1.0\n",
            "Epoch 78: Train accuracy: 1.0,|Validation accuracy: 1.0\n",
            "Epoch 79: Train accuracy: 1.0,|Validation accuracy: 1.0\n",
            "Epoch 80: Train accuracy: 1.0,|Validation accuracy: 1.0\n",
            "Epoch 81: Train accuracy: 1.0,|Validation accuracy: 1.0\n",
            "Epoch 82: Train accuracy: 1.0,|Validation accuracy: 1.0\n",
            "Epoch 83: Train accuracy: 1.0,|Validation accuracy: 1.0\n",
            "Epoch 84: Train accuracy: 1.0,|Validation accuracy: 1.0\n",
            "Epoch 85: Train accuracy: 1.0,|Validation accuracy: 1.0\n",
            "Epoch 86: Train accuracy: 1.0,|Validation accuracy: 1.0\n",
            "Epoch 87: Train accuracy: 1.0,|Validation accuracy: 1.0\n",
            "Epoch 88: Train accuracy: 1.0,|Validation accuracy: 1.0\n",
            "Epoch 89: Train accuracy: 1.0,|Validation accuracy: 1.0\n",
            "Epoch 90: Train accuracy: 1.0,|Validation accuracy: 1.0\n",
            "Epoch 91: Train accuracy: 1.0,|Validation accuracy: 1.0\n",
            "Epoch 92: Train accuracy: 1.0,|Validation accuracy: 1.0\n",
            "Epoch 93: Train accuracy: 1.0,|Validation accuracy: 1.0\n",
            "Epoch 94: Train accuracy: 1.0,|Validation accuracy: 1.0\n",
            "Epoch 95: Train accuracy: 1.0,|Validation accuracy: 1.0\n",
            "Epoch 96: Train accuracy: 1.0,|Validation accuracy: 1.0\n",
            "Epoch 97: Train accuracy: 1.0,|Validation accuracy: 1.0\n",
            "Epoch 98: Train accuracy: 1.0,|Validation accuracy: 1.0\n",
            "Epoch 99: Train accuracy: 1.0,|Validation accuracy: 1.0\n",
            "Epoch 100: Train accuracy: 1.0,|Validation accuracy: 1.0\n",
            "Epoch 101: Train accuracy: 1.0,|Validation accuracy: 1.0\n",
            "Epoch 102: Train accuracy: 1.0,|Validation accuracy: 1.0\n",
            "Epoch 103: Train accuracy: 1.0,|Validation accuracy: 1.0\n",
            "Epoch 104: Train accuracy: 1.0,|Validation accuracy: 1.0\n",
            "Epoch 105: Train accuracy: 1.0,|Validation accuracy: 1.0\n",
            "Epoch 106: Train accuracy: 1.0,|Validation accuracy: 1.0\n",
            "Epoch 107: Train accuracy: 1.0,|Validation accuracy: 1.0\n",
            "Epoch 108: Train accuracy: 1.0,|Validation accuracy: 1.0\n",
            "Epoch 109: Train accuracy: 1.0,|Validation accuracy: 1.0\n",
            "Epoch 110: Train accuracy: 1.0,|Validation accuracy: 1.0\n",
            "Epoch 111: Train accuracy: 1.0,|Validation accuracy: 1.0\n",
            "Epoch 112: Train accuracy: 1.0,|Validation accuracy: 1.0\n",
            "Epoch 113: Train accuracy: 1.0,|Validation accuracy: 1.0\n",
            "Epoch 114: Train accuracy: 1.0,|Validation accuracy: 1.0\n",
            "Epoch 115: Train accuracy: 1.0,|Validation accuracy: 1.0\n",
            "Epoch 116: Train accuracy: 1.0,|Validation accuracy: 1.0\n",
            "Epoch 117: Train accuracy: 1.0,|Validation accuracy: 1.0\n",
            "Epoch 118: Train accuracy: 1.0,|Validation accuracy: 1.0\n",
            "Epoch 119: Train accuracy: 1.0,|Validation accuracy: 1.0\n",
            "Epoch 120: Train accuracy: 1.0,|Validation accuracy: 1.0\n",
            "Epoch 121: Train accuracy: 1.0,|Validation accuracy: 1.0\n",
            "Epoch 122: Train accuracy: 1.0,|Validation accuracy: 1.0\n",
            "Epoch 123: Train accuracy: 1.0,|Validation accuracy: 1.0\n",
            "Epoch 124: Train accuracy: 1.0,|Validation accuracy: 1.0\n",
            "Epoch 125: Train accuracy: 1.0,|Validation accuracy: 1.0\n",
            "Epoch 126: Train accuracy: 1.0,|Validation accuracy: 1.0\n",
            "Epoch 127: Train accuracy: 1.0,|Validation accuracy: 1.0\n",
            "Epoch 128: Train accuracy: 1.0,|Validation accuracy: 1.0\n",
            "Epoch 129: Train accuracy: 1.0,|Validation accuracy: 1.0\n",
            "Epoch 130: Train accuracy: 1.0,|Validation accuracy: 1.0\n",
            "Epoch 131: Train accuracy: 1.0,|Validation accuracy: 1.0\n",
            "Epoch 132: Train accuracy: 1.0,|Validation accuracy: 1.0\n",
            "Epoch 133: Train accuracy: 1.0,|Validation accuracy: 1.0\n",
            "Epoch 134: Train accuracy: 1.0,|Validation accuracy: 1.0\n",
            "Epoch 135: Train accuracy: 1.0,|Validation accuracy: 1.0\n",
            "Epoch 136: Train accuracy: 1.0,|Validation accuracy: 1.0\n",
            "Epoch 137: Train accuracy: 1.0,|Validation accuracy: 1.0\n",
            "Epoch 138: Train accuracy: 1.0,|Validation accuracy: 1.0\n",
            "Epoch 139: Train accuracy: 1.0,|Validation accuracy: 1.0\n",
            "Epoch 140: Train accuracy: 1.0,|Validation accuracy: 1.0\n",
            "Epoch 141: Train accuracy: 1.0,|Validation accuracy: 1.0\n",
            "Epoch 142: Train accuracy: 1.0,|Validation accuracy: 1.0\n",
            "Epoch 143: Train accuracy: 1.0,|Validation accuracy: 1.0\n",
            "Epoch 144: Train accuracy: 1.0,|Validation accuracy: 1.0\n",
            "Epoch 145: Train accuracy: 1.0,|Validation accuracy: 1.0\n",
            "Epoch 146: Train accuracy: 1.0,|Validation accuracy: 1.0\n",
            "Epoch 147: Train accuracy: 1.0,|Validation accuracy: 1.0\n",
            "Epoch 148: Train accuracy: 1.0,|Validation accuracy: 1.0\n",
            "Epoch 149: Train accuracy: 1.0,|Validation accuracy: 1.0\n",
            "Epoch 150: Train accuracy: 1.0,|Validation accuracy: 1.0\n",
            "Epoch 151: Train accuracy: 1.0,|Validation accuracy: 1.0\n",
            "Epoch 152: Train accuracy: 1.0,|Validation accuracy: 1.0\n",
            "Epoch 153: Train accuracy: 1.0,|Validation accuracy: 1.0\n",
            "Epoch 154: Train accuracy: 1.0,|Validation accuracy: 1.0\n",
            "Epoch 155: Train accuracy: 1.0,|Validation accuracy: 1.0\n",
            "Epoch 156: Train accuracy: 1.0,|Validation accuracy: 1.0\n",
            "Epoch 157: Train accuracy: 1.0,|Validation accuracy: 1.0\n",
            "Epoch 158: Train accuracy: 1.0,|Validation accuracy: 1.0\n",
            "Epoch 159: Train accuracy: 1.0,|Validation accuracy: 1.0\n",
            "Epoch 160: Train accuracy: 1.0,|Validation accuracy: 1.0\n",
            "Epoch 161: Train accuracy: 1.0,|Validation accuracy: 1.0\n",
            "Epoch 162: Train accuracy: 1.0,|Validation accuracy: 1.0\n",
            "Epoch 163: Train accuracy: 1.0,|Validation accuracy: 1.0\n",
            "Epoch 164: Train accuracy: 1.0,|Validation accuracy: 1.0\n",
            "Epoch 165: Train accuracy: 1.0,|Validation accuracy: 1.0\n",
            "Epoch 166: Train accuracy: 1.0,|Validation accuracy: 1.0\n",
            "Epoch 167: Train accuracy: 1.0,|Validation accuracy: 1.0\n",
            "Epoch 168: Train accuracy: 1.0,|Validation accuracy: 1.0\n",
            "Epoch 169: Train accuracy: 1.0,|Validation accuracy: 1.0\n",
            "Epoch 170: Train accuracy: 1.0,|Validation accuracy: 1.0\n",
            "Epoch 171: Train accuracy: 1.0,|Validation accuracy: 1.0\n",
            "Epoch 172: Train accuracy: 1.0,|Validation accuracy: 1.0\n",
            "Epoch 173: Train accuracy: 1.0,|Validation accuracy: 1.0\n",
            "Epoch 174: Train accuracy: 1.0,|Validation accuracy: 1.0\n",
            "Epoch 175: Train accuracy: 1.0,|Validation accuracy: 1.0\n",
            "Epoch 176: Train accuracy: 1.0,|Validation accuracy: 1.0\n",
            "Epoch 177: Train accuracy: 1.0,|Validation accuracy: 1.0\n",
            "Epoch 178: Train accuracy: 1.0,|Validation accuracy: 1.0\n",
            "Epoch 179: Train accuracy: 1.0,|Validation accuracy: 1.0\n",
            "Epoch 180: Train accuracy: 1.0,|Validation accuracy: 1.0\n",
            "Epoch 181: Train accuracy: 1.0,|Validation accuracy: 1.0\n",
            "Epoch 182: Train accuracy: 1.0,|Validation accuracy: 1.0\n",
            "Epoch 183: Train accuracy: 1.0,|Validation accuracy: 1.0\n",
            "Epoch 184: Train accuracy: 1.0,|Validation accuracy: 1.0\n",
            "Epoch 185: Train accuracy: 1.0,|Validation accuracy: 1.0\n",
            "Epoch 186: Train accuracy: 1.0,|Validation accuracy: 1.0\n",
            "Epoch 187: Train accuracy: 1.0,|Validation accuracy: 1.0\n",
            "Epoch 188: Train accuracy: 1.0,|Validation accuracy: 1.0\n",
            "Epoch 189: Train accuracy: 1.0,|Validation accuracy: 1.0\n",
            "Epoch 190: Train accuracy: 1.0,|Validation accuracy: 1.0\n",
            "Epoch 191: Train accuracy: 1.0,|Validation accuracy: 1.0\n",
            "Epoch 192: Train accuracy: 1.0,|Validation accuracy: 1.0\n",
            "Epoch 193: Train accuracy: 1.0,|Validation accuracy: 1.0\n",
            "Epoch 194: Train accuracy: 1.0,|Validation accuracy: 1.0\n",
            "Epoch 195: Train accuracy: 1.0,|Validation accuracy: 1.0\n",
            "Epoch 196: Train accuracy: 1.0,|Validation accuracy: 1.0\n",
            "Epoch 197: Train accuracy: 1.0,|Validation accuracy: 1.0\n",
            "Epoch 198: Train accuracy: 1.0,|Validation accuracy: 1.0\n",
            "Epoch 199: Train accuracy: 1.0,|Validation accuracy: 1.0\n"
          ],
          "name": "stdout"
        },
        {
          "output_type": "display_data",
          "data": {
            "image/png": "[encoded data removed]",
            "text/plain": [
              "<Figure size 432x288 with 1 Axes>"
            ]
          },
          "metadata": {
            "tags": [],
            "needs_background": "light"
          }
        },
        {
          "output_type": "display_data",
          "data": {
            "image/png": "[encoded data removed]",
            "text/plain": [
              "<Figure size 432x288 with 1 Axes>"
            ]
          },
          "metadata": {
            "tags": [],
            "needs_background": "light"
          }
        },
        {
          "output_type": "stream",
          "text": [
            "Final Training Accuracy: 1.0\n",
            "Number of iteration is:  199\n"
          ],
          "name": "stdout"
        }
      ]
    },
    {
      "cell_type": "markdown",
      "metadata": {
        "id": "nvDLw-Vz6eVS"
      },
      "source": [
        "### 3. Hyperparameter Search [10 pt]\n",
        "\n",
        "### Part (a) - 1 pt\n",
        "\n",
        "List 3 hyperparameters that you think are most worth tuning. Choose at least one hyperparameter related to\n",
        "the model architecture."
      ]
    },
    {
      "cell_type": "markdown",
      "metadata": {
        "id": "qjhE0P0400PJ"
      },
      "source": [
        "1.Learning Rate\n",
        "2.Number of Hidden units\n",
        "3.Batch size"
      ]
    },
    {
      "cell_type": "markdown",
      "metadata": {
        "id": "zeD6EzPB6kSW"
      },
      "source": [
        "### Part (b) - 5 pt\n",
        "\n",
        "Tune the hyperparameters you listed in Part (a), trying as many values as you need to until you feel satisfied\n",
        "that you are getting a good model. Plot the training curve of at least 4 different hyperparameter settings."
      ]
    },
    {
      "cell_type": "code",
      "metadata": {
        "id": "GBCOXZDt8AwU",
        "outputId": "a98f199a-e616-44af-cdd5-9a992cdd381d",
        "colab": {
          "base_uri": "https://localhost:8080/",
          "height": 357
        }
      },
      "source": [
        "gpu_info = !nvidia-smi\n",
        "gpu_info = '\\n'.join(gpu_info)\n",
        "if gpu_info.find('failed') >= 0:\n",
        "  print('Select the Runtime > \"Change runtime type\" menu to enable a GPU accelerator, ')\n",
        "  print('and then re-execute this cell.')\n",
        "else:\n",
        "  print(gpu_info)"
      ],
      "execution_count": null,
      "outputs": [
        {
          "output_type": "stream",
          "text": [
            "Thu Oct 15 20:52:57 2020       \n",
            "+-----------------------------------------------------------------------------+\n",
            "| NVIDIA-SMI 455.23.05    Driver Version: 418.67       CUDA Version: 10.1     |\n",
            "|-------------------------------+----------------------+----------------------+\n",
            "| GPU  Name        Persistence-M| Bus-Id        Disp.A | Volatile Uncorr. ECC |\n",
            "| Fan  Temp  Perf  Pwr:Usage/Cap|         Memory-Usage | GPU-Util  Compute M. |\n",
            "|                               |                      |               MIG M. |\n",
            "|===============================+======================+======================|\n",
            "|   0  Tesla V100-SXM2...  Off  | 00000000:00:04.0 Off |                    0 |\n",
            "| N/A   33C    P0    23W / 300W |      0MiB / 16130MiB |      0%      Default |\n",
            "|                               |                      |                 ERR! |\n",
            "+-------------------------------+----------------------+----------------------+\n",
            "                                                                               \n",
            "+-----------------------------------------------------------------------------+\n",
            "| Processes:                                                                  |\n",
            "|  GPU   GI   CI        PID   Type   Process name                  GPU Memory |\n",
            "|        ID   ID                                                   Usage      |\n",
            "|=============================================================================|\n",
            "|  No running processes found                                                 |\n",
            "+-----------------------------------------------------------------------------+\n"
          ],
          "name": "stdout"
        }
      ]
    },
    {
      "cell_type": "code",
      "metadata": {
        "id": "LDPdwMoY-uWZ"
      },
      "source": [
        "data_dir = '/content/drive/My Drive/Colab Notebooks/Lab_3b_Gesture_Dataset/'\n",
        "data_resize = transforms.Compose([transforms.Resize((224, 224)), transforms.ToTensor()])\n",
        "dataset_class = datasets.ImageFolder(data_dir,transform=data_resize)\n",
        "Letter_class = [\"A\",'B','C','D','E','F','G','H','I']\n",
        "batch_size = 27\n"
      ],
      "execution_count": null,
      "outputs": []
    },
    {
      "cell_type": "code",
      "metadata": {
        "id": "UkvdR-cB6nzm",
        "outputId": "ff03f2e5-6baa-4a7e-ba48-d13c52ebc027",
        "colab": {
          "base_uri": "https://localhost:8080/",
          "height": 1000
        }
      },
      "source": [
        "#Net 1, trying new learning rate 0.05\n",
        "train_loader,val_loader,test_loader = get_data_loader(batch_size)\n",
        "use_cuda = True\n",
        "Learning_rate_005 = CNN_Net()\n",
        "if use_cuda and torch.cuda.is_available():\n",
        "  Learning_rate_005.cuda()\n",
        "  print('CUDA is available!  Training on GPU ...')\n",
        "else:\n",
        "  print('CUDA is not available.  Training on CPU ...')\n",
        "  \n",
        "train(Learning_rate_005,batch_size = batch_size,learning_rate = 0.05, num_epochs = 30)"
      ],
      "execution_count": null,
      "outputs": [
        {
          "output_type": "stream",
          "text": [
            "the length of data set is  2431\n",
            "length of train indices is  1701\n",
            "Batch size is  27\n",
            "Num of batch of training images:  63\n",
            "Num of batch of testing images:  10\n",
            "Num of batch of validation images:  18\n",
            "CUDA is available!  Training on GPU ...\n",
            "Epoch 1: Train accuracy: 0.1128747795414462,|Validation accuracy: 0.11316872427983539\n",
            "Epoch 2: Train accuracy: 0.12169312169312169,|Validation accuracy: 0.09053497942386832\n",
            "Epoch 3: Train accuracy: 0.12169312169312169,|Validation accuracy: 0.09053497942386832\n",
            "Epoch 4: Train accuracy: 0.11169900058788948,|Validation accuracy: 0.11934156378600823\n",
            "Epoch 5: Train accuracy: 0.11405055849500294,|Validation accuracy: 0.1111111111111111\n",
            "Epoch 6: Train accuracy: 0.11169900058788948,|Validation accuracy: 0.11934156378600823\n",
            "Epoch 7: Train accuracy: 0.1128747795414462,|Validation accuracy: 0.11522633744855967\n",
            "Epoch 8: Train accuracy: 0.1128747795414462,|Validation accuracy: 0.11522633744855967\n",
            "Epoch 9: Train accuracy: 0.12169312169312169,|Validation accuracy: 0.09053497942386832\n",
            "Epoch 10: Train accuracy: 0.1128747795414462,|Validation accuracy: 0.11316872427983539\n",
            "Epoch 11: Train accuracy: 0.11405055849500294,|Validation accuracy: 0.1111111111111111\n",
            "Epoch 12: Train accuracy: 0.11405055849500294,|Validation accuracy: 0.1111111111111111\n",
            "Epoch 13: Train accuracy: 0.10052910052910052,|Validation accuracy: 0.102880658436214\n",
            "Epoch 14: Train accuracy: 0.1128747795414462,|Validation accuracy: 0.102880658436214\n",
            "Epoch 15: Train accuracy: 0.1128747795414462,|Validation accuracy: 0.11316872427983539\n",
            "Epoch 16: Train accuracy: 0.12169312169312169,|Validation accuracy: 0.09053497942386832\n",
            "Epoch 17: Train accuracy: 0.1128747795414462,|Validation accuracy: 0.11522633744855967\n",
            "Epoch 18: Train accuracy: 0.12169312169312169,|Validation accuracy: 0.09053497942386832\n",
            "Epoch 19: Train accuracy: 0.1128747795414462,|Validation accuracy: 0.102880658436214\n",
            "Epoch 20: Train accuracy: 0.12169312169312169,|Validation accuracy: 0.09053497942386832\n",
            "Epoch 21: Train accuracy: 0.11405055849500294,|Validation accuracy: 0.1111111111111111\n",
            "Epoch 22: Train accuracy: 0.10640799529688419,|Validation accuracy: 0.12551440329218108\n",
            "Epoch 23: Train accuracy: 0.12169312169312169,|Validation accuracy: 0.09053497942386832\n",
            "Epoch 24: Train accuracy: 0.1128747795414462,|Validation accuracy: 0.11316872427983539\n",
            "Epoch 25: Train accuracy: 0.10699588477366255,|Validation accuracy: 0.11934156378600823\n",
            "Epoch 26: Train accuracy: 0.10699588477366255,|Validation accuracy: 0.11934156378600823\n",
            "Epoch 27: Train accuracy: 0.12169312169312169,|Validation accuracy: 0.09053497942386832\n",
            "Epoch 28: Train accuracy: 0.12169312169312169,|Validation accuracy: 0.09053497942386832\n",
            "Epoch 29: Train accuracy: 0.12169312169312169,|Validation accuracy: 0.09053497942386832\n",
            "Epoch 30: Train accuracy: 0.12169312169312169,|Validation accuracy: 0.09053497942386832\n"
          ],
          "name": "stdout"
        },
        {
          "output_type": "display_data",
          "data": {
            "image/png": "[encoded data removed]",
            "text/plain": [
              "<Figure size 432x288 with 1 Axes>"
            ]
          },
          "metadata": {
            "tags": [],
            "needs_background": "light"
          }
        },
        {
          "output_type": "display_data",
          "data": {
            "image/png": "[encoded data removed]",
            "text/plain": [
              "<Figure size 432x288 with 1 Axes>"
            ]
          },
          "metadata": {
            "tags": [],
            "needs_background": "light"
          }
        },
        {
          "output_type": "stream",
          "text": [
            "Final Training Accuracy: 0.12169312169312169\n",
            "Number of iteration is:  1890\n"
          ],
          "name": "stdout"
        }
      ]
    },
    {
      "cell_type": "code",
      "metadata": {
        "id": "EYw3YkQlwbP8",
        "outputId": "b8f04bc7-22b4-4295-d74d-7b8c17f614d2",
        "colab": {
          "base_uri": "https://localhost:8080/",
          "height": 1000
        }
      },
      "source": [
        "#Net 2 trying new learning rate 0.015\n",
        "train_loader,val_loader,test_loader = get_data_loader(batch_size)\n",
        "use_cuda = True\n",
        "Learning_rate_0015 = CNN_Net()\n",
        "\n",
        "if use_cuda and torch.cuda.is_available():\n",
        "  Learning_rate_0015.cuda()\n",
        "  print('CUDA is available!  Training on GPU ...')\n",
        "else:\n",
        "  print('CUDA is not available.  Training on CPU ...')\n",
        "  \n",
        "batch_size = 27\n",
        "train(Learning_rate_0015,batch_size = batch_size,learning_rate = 0.015, num_epochs = 30)"
      ],
      "execution_count": null,
      "outputs": [
        {
          "output_type": "stream",
          "text": [
            "the length of data set is  2431\n",
            "length of train indices is  1701\n",
            "Batch size is  27\n",
            "Num of batch of training images:  63\n",
            "Num of batch of testing images:  10\n",
            "Num of batch of validation images:  18\n",
            "CUDA is available!  Training on GPU ...\n",
            "Epoch 1: Train accuracy: 0.1128747795414462,|Validation accuracy: 0.11316872427983539\n",
            "Epoch 2: Train accuracy: 0.12169312169312169,|Validation accuracy: 0.09053497942386832\n",
            "Epoch 3: Train accuracy: 0.12169312169312169,|Validation accuracy: 0.09053497942386832\n",
            "Epoch 4: Train accuracy: 0.12169312169312169,|Validation accuracy: 0.09053497942386832\n",
            "Epoch 5: Train accuracy: 0.12169312169312169,|Validation accuracy: 0.09053497942386832\n",
            "Epoch 6: Train accuracy: 0.12169312169312169,|Validation accuracy: 0.09053497942386832\n",
            "Epoch 7: Train accuracy: 0.12169312169312169,|Validation accuracy: 0.09053497942386832\n",
            "Epoch 8: Train accuracy: 0.12169312169312169,|Validation accuracy: 0.09053497942386832\n",
            "Epoch 9: Train accuracy: 0.12169312169312169,|Validation accuracy: 0.09053497942386832\n",
            "Epoch 10: Train accuracy: 0.12169312169312169,|Validation accuracy: 0.09053497942386832\n",
            "Epoch 11: Train accuracy: 0.12169312169312169,|Validation accuracy: 0.09053497942386832\n",
            "Epoch 12: Train accuracy: 0.12169312169312169,|Validation accuracy: 0.09053497942386832\n",
            "Epoch 13: Train accuracy: 0.12169312169312169,|Validation accuracy: 0.09053497942386832\n",
            "Epoch 14: Train accuracy: 0.12169312169312169,|Validation accuracy: 0.09053497942386832\n",
            "Epoch 15: Train accuracy: 0.12169312169312169,|Validation accuracy: 0.09053497942386832\n",
            "Epoch 16: Train accuracy: 0.12169312169312169,|Validation accuracy: 0.09053497942386832\n",
            "Epoch 17: Train accuracy: 0.12169312169312169,|Validation accuracy: 0.09053497942386832\n",
            "Epoch 18: Train accuracy: 0.12169312169312169,|Validation accuracy: 0.09053497942386832\n",
            "Epoch 19: Train accuracy: 0.12169312169312169,|Validation accuracy: 0.09053497942386832\n",
            "Epoch 20: Train accuracy: 0.12169312169312169,|Validation accuracy: 0.09053497942386832\n",
            "Epoch 21: Train accuracy: 0.12169312169312169,|Validation accuracy: 0.09053497942386832\n",
            "Epoch 22: Train accuracy: 0.12169312169312169,|Validation accuracy: 0.09053497942386832\n",
            "Epoch 23: Train accuracy: 0.12169312169312169,|Validation accuracy: 0.09053497942386832\n",
            "Epoch 24: Train accuracy: 0.12169312169312169,|Validation accuracy: 0.09053497942386832\n",
            "Epoch 25: Train accuracy: 0.12169312169312169,|Validation accuracy: 0.09053497942386832\n",
            "Epoch 26: Train accuracy: 0.12169312169312169,|Validation accuracy: 0.09053497942386832\n",
            "Epoch 27: Train accuracy: 0.12169312169312169,|Validation accuracy: 0.09053497942386832\n",
            "Epoch 28: Train accuracy: 0.12169312169312169,|Validation accuracy: 0.09053497942386832\n",
            "Epoch 29: Train accuracy: 0.12169312169312169,|Validation accuracy: 0.09053497942386832\n",
            "Epoch 30: Train accuracy: 0.12169312169312169,|Validation accuracy: 0.09053497942386832\n"
          ],
          "name": "stdout"
        },
        {
          "output_type": "display_data",
          "data": {
            "image/png": "[encoded data removed]",
            "text/plain": [
              "<Figure size 432x288 with 1 Axes>"
            ]
          },
          "metadata": {
            "tags": [],
            "needs_background": "light"
          }
        },
        {
          "output_type": "display_data",
          "data": {
            "image/png": "[encoded data removed]",
            "text/plain": [
              "<Figure size 432x288 with 1 Axes>"
            ]
          },
          "metadata": {
            "tags": [],
            "needs_background": "light"
          }
        },
        {
          "output_type": "stream",
          "text": [
            "Final Training Accuracy: 0.12169312169312169\n",
            "Number of iteration is:  1890\n"
          ],
          "name": "stdout"
        }
      ]
    },
    {
      "cell_type": "code",
      "metadata": {
        "id": "J3w0BSaiwbbq",
        "outputId": "69e922ab-73d4-4822-af45-41c91514d8e7",
        "colab": {
          "base_uri": "https://localhost:8080/",
          "height": 1000
        }
      },
      "source": [
        "#rying new batch size 54\n",
        "batch_size = 54\n",
        "train_loader,val_loader,test_loader = get_data_loader(batch_size)\n",
        "use_cuda = True\n",
        "batch_size_54 = CNN_Net()\n",
        "\n",
        "if use_cuda and torch.cuda.is_available():\n",
        "  batch_size_54.cuda()\n",
        "  print('CUDA is available!  Training on GPU ...')\n",
        "else:\n",
        "  print('CUDA is not available.  Training on CPU ...')\n",
        "  \n",
        "batch_size = 54\n",
        "train(batch_size_54,batch_size = batch_size,learning_rate = 0.001, num_epochs = 30)"
      ],
      "execution_count": null,
      "outputs": [
        {
          "output_type": "stream",
          "text": [
            "the length of data set is  2431\n",
            "length of train indices is  1701\n",
            "Batch size is  54\n",
            "Num of batch of training images:  32\n",
            "Num of batch of testing images:  5\n",
            "Num of batch of validation images:  9\n",
            "CUDA is available!  Training on GPU ...\n",
            "54\n",
            "Epoch 1: Train accuracy: 0.1128747795414462,|Validation accuracy: 0.11522633744855967\n",
            "Epoch 2: Train accuracy: 0.17930629041740154,|Validation accuracy: 0.14609053497942387\n",
            "Epoch 3: Train accuracy: 0.6754850088183422,|Validation accuracy: 0.6625514403292181\n",
            "Epoch 4: Train accuracy: 0.7413286302175192,|Validation accuracy: 0.7016460905349794\n",
            "Epoch 5: Train accuracy: 0.7677836566725456,|Validation accuracy: 0.720164609053498\n",
            "Epoch 6: Train accuracy: 0.805408583186361,|Validation accuracy: 0.7345679012345679\n",
            "Epoch 7: Train accuracy: 0.8265726043503822,|Validation accuracy: 0.7386831275720165\n",
            "Epoch 8: Train accuracy: 0.8530276308054086,|Validation accuracy: 0.7407407407407407\n",
            "Epoch 9: Train accuracy: 0.8806584362139918,|Validation accuracy: 0.7654320987654321\n",
            "Epoch 10: Train accuracy: 0.9035861258083481,|Validation accuracy: 0.7551440329218106\n",
            "Epoch 11: Train accuracy: 0.9135802469135802,|Validation accuracy: 0.7757201646090535\n",
            "Epoch 12: Train accuracy: 0.9647266313932981,|Validation accuracy: 0.7983539094650206\n",
            "Epoch 13: Train accuracy: 0.9747207524985303,|Validation accuracy: 0.7839506172839507\n",
            "Epoch 14: Train accuracy: 0.9606114050558495,|Validation accuracy: 0.7921810699588477\n",
            "Epoch 15: Train accuracy: 0.9864785420340976,|Validation accuracy: 0.8045267489711934\n",
            "Epoch 16: Train accuracy: 0.9911816578483245,|Validation accuracy: 0.808641975308642\n",
            "Epoch 17: Train accuracy: 0.9947089947089947,|Validation accuracy: 0.8148148148148148\n",
            "Epoch 18: Train accuracy: 0.9982363315696648,|Validation accuracy: 0.8045267489711934\n",
            "Epoch 19: Train accuracy: 0.9994121105232217,|Validation accuracy: 0.8127572016460906\n",
            "Epoch 20: Train accuracy: 1.0,|Validation accuracy: 0.8065843621399177\n",
            "Epoch 21: Train accuracy: 1.0,|Validation accuracy: 0.8189300411522634\n",
            "Epoch 22: Train accuracy: 1.0,|Validation accuracy: 0.8106995884773662\n",
            "Epoch 23: Train accuracy: 1.0,|Validation accuracy: 0.8209876543209876\n",
            "Epoch 24: Train accuracy: 1.0,|Validation accuracy: 0.8148148148148148\n",
            "Epoch 25: Train accuracy: 1.0,|Validation accuracy: 0.8127572016460906\n",
            "Epoch 26: Train accuracy: 1.0,|Validation accuracy: 0.8168724279835391\n",
            "Epoch 27: Train accuracy: 1.0,|Validation accuracy: 0.8127572016460906\n",
            "Epoch 28: Train accuracy: 1.0,|Validation accuracy: 0.8127572016460906\n",
            "Epoch 29: Train accuracy: 1.0,|Validation accuracy: 0.8168724279835391\n",
            "Epoch 30: Train accuracy: 1.0,|Validation accuracy: 0.8168724279835391\n"
          ],
          "name": "stdout"
        },
        {
          "output_type": "display_data",
          "data": {
            "image/png": "[encoded data removed]",
            "text/plain": [
              "<Figure size 432x288 with 1 Axes>"
            ]
          },
          "metadata": {
            "tags": [],
            "needs_background": "light"
          }
        },
        {
          "output_type": "display_data",
          "data": {
            "image/png": "[encoded data removed]",
            "text/plain": [
              "<Figure size 432x288 with 1 Axes>"
            ]
          },
          "metadata": {
            "tags": [],
            "needs_background": "light"
          }
        },
        {
          "output_type": "stream",
          "text": [
            "Final Training Accuracy: 1.0\n",
            "Number of iteration is:  960\n"
          ],
          "name": "stdout"
        }
      ]
    },
    {
      "cell_type": "code",
      "metadata": {
        "id": "1leLxuS7wbn5",
        "outputId": "e8701949-096a-4049-8fb8-7f02f49505fc",
        "colab": {
          "base_uri": "https://localhost:8080/",
          "height": 1000
        }
      },
      "source": [
        "#trying new batch size 81\n",
        "batch_size = 81\n",
        "train_loader,val_loader,test_loader = get_data_loader(batch_size)\n",
        "use_cuda = True\n",
        "batch_size_81 = CNN_Net()\n",
        "\n",
        "if use_cuda and torch.cuda.is_available():\n",
        "  batch_size_81.cuda()\n",
        "  print('CUDA is available!  Training on GPU ...')\n",
        "else:\n",
        "  print('CUDA is not available.  Training on CPU ...')\n",
        "  \n",
        "batch_size = 81\n",
        "train(batch_size_81,batch_size = batch_size,learning_rate = 0.001, num_epochs = 30)"
      ],
      "execution_count": null,
      "outputs": [
        {
          "output_type": "stream",
          "text": [
            "the length of data set is  2431\n",
            "length of train indices is  1701\n",
            "Batch size is  81\n",
            "Num of batch of training images:  21\n",
            "Num of batch of testing images:  4\n",
            "Num of batch of validation images:  6\n",
            "CUDA is available!  Training on GPU ...\n",
            "81\n",
            "Epoch 1: Train accuracy: 0.4097589653145209,|Validation accuracy: 0.3559670781893004\n",
            "Epoch 2: Train accuracy: 0.6008230452674898,|Validation accuracy: 0.5617283950617284\n",
            "Epoch 3: Train accuracy: 0.7148736037624926,|Validation accuracy: 0.6748971193415638\n",
            "Epoch 4: Train accuracy: 0.7542621987066431,|Validation accuracy: 0.6954732510288066\n",
            "Epoch 5: Train accuracy: 0.7542621987066431,|Validation accuracy: 0.676954732510288\n",
            "Epoch 6: Train accuracy: 0.7783656672545561,|Validation accuracy: 0.7139917695473251\n",
            "Epoch 7: Train accuracy: 0.8030570252792475,|Validation accuracy: 0.7139917695473251\n",
            "Epoch 8: Train accuracy: 0.8677248677248677,|Validation accuracy: 0.7345679012345679\n",
            "Epoch 9: Train accuracy: 0.8871252204585538,|Validation accuracy: 0.7386831275720165\n",
            "Epoch 10: Train accuracy: 0.9071134626690183,|Validation accuracy: 0.7777777777777778\n",
            "Epoch 11: Train accuracy: 0.9247501469723692,|Validation accuracy: 0.757201646090535\n",
            "Epoch 12: Train accuracy: 0.9506172839506173,|Validation accuracy: 0.7674897119341564\n",
            "Epoch 13: Train accuracy: 0.9776601998824221,|Validation accuracy: 0.7716049382716049\n",
            "Epoch 14: Train accuracy: 0.9847148736037625,|Validation accuracy: 0.7777777777777778\n",
            "Epoch 15: Train accuracy: 0.9929453262786596,|Validation accuracy: 0.7633744855967078\n",
            "Epoch 16: Train accuracy: 0.9941211052322163,|Validation accuracy: 0.779835390946502\n",
            "Epoch 17: Train accuracy: 0.9976484420928865,|Validation accuracy: 0.7674897119341564\n",
            "Epoch 18: Train accuracy: 1.0,|Validation accuracy: 0.7757201646090535\n",
            "Epoch 19: Train accuracy: 0.9994121105232217,|Validation accuracy: 0.7860082304526749\n",
            "Epoch 20: Train accuracy: 1.0,|Validation accuracy: 0.7818930041152263\n",
            "Epoch 21: Train accuracy: 1.0,|Validation accuracy: 0.7839506172839507\n",
            "Epoch 22: Train accuracy: 1.0,|Validation accuracy: 0.779835390946502\n",
            "Epoch 23: Train accuracy: 1.0,|Validation accuracy: 0.7839506172839507\n",
            "Epoch 24: Train accuracy: 1.0,|Validation accuracy: 0.7839506172839507\n",
            "Epoch 25: Train accuracy: 1.0,|Validation accuracy: 0.7818930041152263\n",
            "Epoch 26: Train accuracy: 1.0,|Validation accuracy: 0.7839506172839507\n",
            "Epoch 27: Train accuracy: 1.0,|Validation accuracy: 0.7860082304526749\n",
            "Epoch 28: Train accuracy: 1.0,|Validation accuracy: 0.7839506172839507\n",
            "Epoch 29: Train accuracy: 1.0,|Validation accuracy: 0.7839506172839507\n",
            "Epoch 30: Train accuracy: 1.0,|Validation accuracy: 0.7839506172839507\n"
          ],
          "name": "stdout"
        },
        {
          "output_type": "display_data",
          "data": {
            "image/png": "[encoded data removed]",
            "text/plain": [
              "<Figure size 432x288 with 1 Axes>"
            ]
          },
          "metadata": {
            "tags": [],
            "needs_background": "light"
          }
        },
        {
          "output_type": "display_data",
          "data": {
            "image/png": "[encoded data removed]",
            "text/plain": [
              "<Figure size 432x288 with 1 Axes>"
            ]
          },
          "metadata": {
            "tags": [],
            "needs_background": "light"
          }
        },
        {
          "output_type": "stream",
          "text": [
            "Final Training Accuracy: 1.0\n",
            "Number of iteration is:  630\n"
          ],
          "name": "stdout"
        }
      ]
    },
    {
      "cell_type": "code",
      "metadata": {
        "id": "6ERbdFjm0vti"
      },
      "source": [
        "#trying new number of hidden units = 100\n",
        "class CNN_100_HiddenUnits(nn.Module):\n",
        "  def __init__(self):\n",
        "    super(CNN_100_HiddenUnits, self).__init__()\n",
        "    self.name = \"100_HiddenUnits()\"\n",
        "    self.conv1 = nn.Conv2d(3, 5, 3)      # 3*224*224 after conv1 is 5*222*222\n",
        "    self.pool = nn.MaxPool2d(2, 2)       # 5*222*222 after max pool is 5*111*111\n",
        "    self.conv2 = nn.Conv2d(5, 5, 4)     # 5*111*111 after conv2 is 5*108*108\n",
        "                                         # 5*108*108 after max pool is 5*54*54 \n",
        "    self.fc1 = nn.Linear(5*54*54, 100)  # 5*54*54 flatten, then becomes 100 units, number of weights decrease\n",
        "    self.fc2 = nn.Linear(100, 9)         # 100 units after fc2 becomes 9 units. \n",
        "                                         #and the output will be chosen as the max value among that 9\n",
        "\n",
        "  def forward(self, x):\n",
        "    x = self.pool(F.relu(self.conv1(x)))\n",
        "    x = self.pool(F.relu(self.conv2(x)))\n",
        "    x = x.view(-1, 5*54*54)\n",
        "    x = F.relu(self.fc1(x))\n",
        "    x = self.fc2(x)\n",
        "    #x = x.unsqueeze(0) # Flatten to [batch_size]\n",
        "    return x"
      ],
      "execution_count": null,
      "outputs": []
    },
    {
      "cell_type": "code",
      "metadata": {
        "id": "CFurBdml1Mk_",
        "outputId": "63e785d7-ed7e-4b27-9610-1f24d5aa701b",
        "colab": {
          "base_uri": "https://localhost:8080/",
          "height": 1000
        }
      },
      "source": [
        "train_loader,val_loader,test_loader = get_data_loader(batch_size)\n",
        "use_cuda = True\n",
        "CNN_100_hiden = CNN_100_HiddenUnits()\n",
        "\n",
        "if use_cuda and torch.cuda.is_available():\n",
        "  CNN_100_hiden.cuda()\n",
        "  print('CUDA is available!  Training on GPU ...')\n",
        "else:\n",
        "  print('CUDA is not available.  Training on CPU ...')\n",
        "  \n",
        "batch_size = 27\n",
        "train(CNN_100_hiden,batch_size = batch_size,learning_rate = 0.001, num_epochs = 30)"
      ],
      "execution_count": null,
      "outputs": [
        {
          "output_type": "stream",
          "text": [
            "the length of data set is  2431\n",
            "length of train indices is  1701\n",
            "Batch size is  81\n",
            "Num of batch of training images:  21\n",
            "Num of batch of testing images:  4\n",
            "Num of batch of validation images:  6\n",
            "CUDA is available!  Training on GPU ...\n",
            "Epoch 1: Train accuracy: 0.24808935920047032,|Validation accuracy: 0.22839506172839505\n",
            "Epoch 2: Train accuracy: 0.32451499118165783,|Validation accuracy: 0.25925925925925924\n",
            "Epoch 3: Train accuracy: 0.5655496766607878,|Validation accuracy: 0.522633744855967\n",
            "Epoch 4: Train accuracy: 0.6325690770135215,|Validation accuracy: 0.5493827160493827\n",
            "Epoch 5: Train accuracy: 0.6731334509112287,|Validation accuracy: 0.6419753086419753\n",
            "Epoch 6: Train accuracy: 0.7160493827160493,|Validation accuracy: 0.6625514403292181\n",
            "Epoch 7: Train accuracy: 0.7519106407995297,|Validation accuracy: 0.6810699588477366\n",
            "Epoch 8: Train accuracy: 0.7483833039388595,|Validation accuracy: 0.6872427983539094\n",
            "Epoch 9: Train accuracy: 0.7501469723691946,|Validation accuracy: 0.6893004115226338\n",
            "Epoch 10: Train accuracy: 0.7942386831275721,|Validation accuracy: 0.7181069958847737\n",
            "Epoch 11: Train accuracy: 0.7995296884185773,|Validation accuracy: 0.7345679012345679\n",
            "Epoch 12: Train accuracy: 0.8236331569664903,|Validation accuracy: 0.7325102880658436\n",
            "Epoch 13: Train accuracy: 0.8224573780129336,|Validation accuracy: 0.6995884773662552\n",
            "Epoch 14: Train accuracy: 0.8336272780717225,|Validation accuracy: 0.7386831275720165\n",
            "Epoch 15: Train accuracy: 0.8377425044091711,|Validation accuracy: 0.7325102880658436\n",
            "Epoch 16: Train accuracy: 0.8612580834803057,|Validation accuracy: 0.742798353909465\n",
            "Epoch 17: Train accuracy: 0.8783068783068783,|Validation accuracy: 0.7489711934156379\n",
            "Epoch 18: Train accuracy: 0.890652557319224,|Validation accuracy: 0.7613168724279835\n",
            "Epoch 19: Train accuracy: 0.892416225749559,|Validation accuracy: 0.7386831275720165\n",
            "Epoch 20: Train accuracy: 0.9206349206349206,|Validation accuracy: 0.7654320987654321\n",
            "Epoch 21: Train accuracy: 0.9229864785420341,|Validation accuracy: 0.757201646090535\n",
            "Epoch 22: Train accuracy: 0.9094650205761317,|Validation accuracy: 0.7448559670781894\n",
            "Epoch 23: Train accuracy: 0.9453262786596119,|Validation accuracy: 0.7407407407407407\n",
            "Epoch 24: Train accuracy: 0.9382716049382716,|Validation accuracy: 0.742798353909465\n",
            "Epoch 25: Train accuracy: 0.9506172839506173,|Validation accuracy: 0.7592592592592593\n",
            "Epoch 26: Train accuracy: 0.9735449735449735,|Validation accuracy: 0.7654320987654321\n",
            "Epoch 27: Train accuracy: 0.9811875367430923,|Validation accuracy: 0.7654320987654321\n",
            "Epoch 28: Train accuracy: 0.9606114050558495,|Validation accuracy: 0.7386831275720165\n",
            "Epoch 29: Train accuracy: 0.9841269841269841,|Validation accuracy: 0.7613168724279835\n",
            "Epoch 30: Train accuracy: 0.982363315696649,|Validation accuracy: 0.7510288065843621\n"
          ],
          "name": "stdout"
        },
        {
          "output_type": "display_data",
          "data": {
            "image/png": "[encoded data removed]",
            "text/plain": [
              "<Figure size 432x288 with 1 Axes>"
            ]
          },
          "metadata": {
            "tags": [],
            "needs_background": "light"
          }
        },
        {
          "output_type": "display_data",
          "data": {
            "image/png": "[encoded data removed]",
            "text/plain": [
              "<Figure size 432x288 with 1 Axes>"
            ]
          },
          "metadata": {
            "tags": [],
            "needs_background": "light"
          }
        },
        {
          "output_type": "stream",
          "text": [
            "Final Training Accuracy: 0.982363315696649\n",
            "Number of iteration is:  630\n"
          ],
          "name": "stdout"
        }
      ]
    },
    {
      "cell_type": "code",
      "metadata": {
        "id": "8LHqBMTK1iQp"
      },
      "source": [
        "#trying new number of hidden units = 200\n",
        "class CNN_200HiddenUnits(nn.Module):\n",
        "  def __init__(self):\n",
        "    super(CNN_200HiddenUnits, self).__init__()\n",
        "    self.name = \"200HiddenUnits()\"\n",
        "    self.conv1 = nn.Conv2d(3, 5, 3)      # 3*224*224 after conv1 is 5*222*222\n",
        "    self.pool = nn.MaxPool2d(2, 2)       # 5*222*222 after max pool is 5*111*111\n",
        "    self.conv2 = nn.Conv2d(5, 5, 4)     # 5*111*111 after conv2 is 5*108*108\n",
        "                                         # 5*108*108 after max pool is 5*54*54 \n",
        "    self.fc1 = nn.Linear(5*54*54, 200)  # 5*54*54 flatten, then becomes 100 units, number of weights decrease\n",
        "    self.fc2 = nn.Linear(200, 9)         # 100 units after fc2 becomes 9 units. \n",
        "                                         #and the output will be chosen as the max value among that 9\n",
        "\n",
        "  def forward(self, x):\n",
        "    x = self.pool(F.relu(self.conv1(x)))\n",
        "    x = self.pool(F.relu(self.conv2(x)))\n",
        "    x = x.view(-1, 5*54*54)\n",
        "    x = F.relu(self.fc1(x))\n",
        "    x = self.fc2(x)\n",
        "    #x = x.unsqueeze(0) # Flatten to [batch_size]\n",
        "    return x"
      ],
      "execution_count": null,
      "outputs": []
    },
    {
      "cell_type": "code",
      "metadata": {
        "id": "pkfyr9a61qlA",
        "outputId": "e2429a80-60eb-4c69-be9f-86ec8d2f218b",
        "colab": {
          "base_uri": "https://localhost:8080/",
          "height": 1000
        }
      },
      "source": [
        "use_cuda = True\n",
        "CNN_200_hiden = CNN_200HiddenUnits()\n",
        "\n",
        "if use_cuda and torch.cuda.is_available():\n",
        "  CNN_200_hiden.cuda()\n",
        "  print('CUDA is available!  Training on GPU ...')\n",
        "else:\n",
        "  print('CUDA is not available.  Training on CPU ...')\n",
        "  \n",
        "batch_size = 27\n",
        "train(CNN_200_hiden,batch_size = batch_size,learning_rate = 0.001, num_epochs = 30)"
      ],
      "execution_count": null,
      "outputs": [
        {
          "output_type": "stream",
          "text": [
            "CUDA is available!  Training on GPU ...\n",
            "Epoch 1: Train accuracy: 0.31216931216931215,|Validation accuracy: 0.24897119341563786\n",
            "Epoch 2: Train accuracy: 0.4520870076425632,|Validation accuracy: 0.4176954732510288\n",
            "Epoch 3: Train accuracy: 0.6349206349206349,|Validation accuracy: 0.5987654320987654\n",
            "Epoch 4: Train accuracy: 0.6966490299823633,|Validation accuracy: 0.6296296296296297\n",
            "Epoch 5: Train accuracy: 0.7160493827160493,|Validation accuracy: 0.676954732510288\n",
            "Epoch 6: Train accuracy: 0.7425044091710759,|Validation accuracy: 0.676954732510288\n",
            "Epoch 7: Train accuracy: 0.7689594356261023,|Validation accuracy: 0.6995884773662552\n",
            "Epoch 8: Train accuracy: 0.7860082304526749,|Validation accuracy: 0.7098765432098766\n",
            "Epoch 9: Train accuracy: 0.7912992357436802,|Validation accuracy: 0.7283950617283951\n",
            "Epoch 10: Train accuracy: 0.8277483833039389,|Validation accuracy: 0.7551440329218106\n",
            "Epoch 11: Train accuracy: 0.8259847148736038,|Validation accuracy: 0.7469135802469136\n",
            "Epoch 12: Train accuracy: 0.8683127572016461,|Validation accuracy: 0.7407407407407407\n",
            "Epoch 13: Train accuracy: 0.8777189888300999,|Validation accuracy: 0.7633744855967078\n",
            "Epoch 14: Train accuracy: 0.9012345679012346,|Validation accuracy: 0.7716049382716049\n",
            "Epoch 15: Train accuracy: 0.9171075837742504,|Validation accuracy: 0.7757201646090535\n",
            "Epoch 16: Train accuracy: 0.9347442680776014,|Validation accuracy: 0.7674897119341564\n",
            "Epoch 17: Train accuracy: 0.9423868312757202,|Validation accuracy: 0.7530864197530864\n",
            "Epoch 18: Train accuracy: 0.9441504997060552,|Validation accuracy: 0.7592592592592593\n",
            "Epoch 19: Train accuracy: 0.9547325102880658,|Validation accuracy: 0.7674897119341564\n",
            "Epoch 20: Train accuracy: 0.9835390946502057,|Validation accuracy: 0.7613168724279835\n",
            "Epoch 21: Train accuracy: 0.9805996472663139,|Validation accuracy: 0.7757201646090535\n",
            "Epoch 22: Train accuracy: 0.9805996472663139,|Validation accuracy: 0.7654320987654321\n",
            "Epoch 23: Train accuracy: 0.9894179894179894,|Validation accuracy: 0.7489711934156379\n",
            "Epoch 24: Train accuracy: 0.9917695473251029,|Validation accuracy: 0.7654320987654321\n",
            "Epoch 25: Train accuracy: 0.9929453262786596,|Validation accuracy: 0.7818930041152263\n",
            "Epoch 26: Train accuracy: 0.9994121105232217,|Validation accuracy: 0.7633744855967078\n",
            "Epoch 27: Train accuracy: 0.9958847736625515,|Validation accuracy: 0.7510288065843621\n",
            "Epoch 28: Train accuracy: 0.9982363315696648,|Validation accuracy: 0.7633744855967078\n",
            "Epoch 29: Train accuracy: 1.0,|Validation accuracy: 0.7736625514403292\n",
            "Epoch 30: Train accuracy: 0.9988242210464433,|Validation accuracy: 0.7695473251028807\n"
          ],
          "name": "stdout"
        },
        {
          "output_type": "display_data",
          "data": {
            "image/png": "[encoded data removed]",
            "text/plain": [
              "<Figure size 432x288 with 1 Axes>"
            ]
          },
          "metadata": {
            "tags": [],
            "needs_background": "light"
          }
        },
        {
          "output_type": "display_data",
          "data": {
            "image/png": "[encoded data removed]",
            "text/plain": [
              "<Figure size 432x288 with 1 Axes>"
            ]
          },
          "metadata": {
            "tags": [],
            "needs_background": "light"
          }
        },
        {
          "output_type": "stream",
          "text": [
            "Final Training Accuracy: 0.9988242210464433\n",
            "Number of iteration is:  630\n"
          ],
          "name": "stdout"
        }
      ]
    },
    {
      "cell_type": "markdown",
      "metadata": {
        "id": "H93iN5_l60BO"
      },
      "source": [
        "### Part (c) - 2 pt\n",
        "Choose the best model out of all the ones that you have trained. Justify your choice."
      ]
    },
    {
      "cell_type": "markdown",
      "metadata": {
        "id": "eTQmB81yW3iK"
      },
      "source": [
        "I will choose the batch_size_54 model as the best model. Simply because it has the highest valiation accuracy among other models which is 0.8168724279835391. Its only difference is that its batch size has been increased from 27 to 54.\n"
      ]
    },
    {
      "cell_type": "markdown",
      "metadata": {
        "id": "QzNA5oup67JO"
      },
      "source": [
        "### Part (d) - 2 pt\n",
        "Report the test accuracy of your best model. You should only do this step once and prior to this step you should have only used the training and validation data."
      ]
    },
    {
      "cell_type": "code",
      "metadata": {
        "id": "QRxglwjjby9d",
        "outputId": "2ac370b6-39e3-4000-f4b7-a02235d328d6",
        "colab": {
          "base_uri": "https://localhost:8080/",
          "height": 34
        }
      },
      "source": [
        "test_accuracy = get_accuracy(batch_size_54,train=False,test=True)\n",
        "print(test_accuracy)"
      ],
      "execution_count": null,
      "outputs": [
        {
          "output_type": "stream",
          "text": [
            "0.7131147540983607\n"
          ],
          "name": "stdout"
        }
      ]
    },
    {
      "cell_type": "markdown",
      "metadata": {
        "id": "Wrem-iXV6_Bz"
      },
      "source": [
        "### 4. Transfer Learning [15 pt]\n",
        "For many image classification tasks, it is generally not a good idea to train a very large deep neural network\n",
        "model from scratch due to the enormous compute requirements and lack of sufficient amounts of training\n",
        "data.\n",
        "\n",
        "One of the better options is to try using an existing model that performs a similar task to the one you need\n",
        "to solve. This method of utilizing a pre-trained network for other similar tasks is broadly termed **Transfer\n",
        "Learning**. In this assignment, we will use Transfer Learning to extract features from the hand gesture\n",
        "images. Then, train a smaller network to use these features as input and classify the hand gestures.\n",
        "\n",
        "As you have learned from the CNN lecture, convolution layers extract various features from the images which\n",
        "get utilized by the fully connected layers for correct classification. AlexNet architecture played a pivotal\n",
        "role in establishing Deep Neural Nets as a go-to tool for image classification problems and we will use an\n",
        "ImageNet pre-trained AlexNet model to extract features in this assignment."
      ]
    },
    {
      "cell_type": "markdown",
      "metadata": {
        "id": "rWdQJz4Q7O2F"
      },
      "source": [
        "### Part (a) - 5 pt\n",
        "Here is the code to load the AlexNet network, with pretrained weights. When you first run the code, PyTorch\n",
        "will download the pretrained weights from the internet."
      ]
    },
    {
      "cell_type": "code",
      "metadata": {
        "id": "BJKcTW9C7TZk"
      },
      "source": [
        "import torchvision.models\n",
        "alexnet = torchvision.models.alexnet(pretrained=True)"
      ],
      "execution_count": null,
      "outputs": []
    },
    {
      "cell_type": "markdown",
      "metadata": {
        "id": "NQ0GZYaP7VAR"
      },
      "source": [
        "The alexnet model is split up into two components: *alexnet.features* and *alexnet.classifier*. The\n",
        "first neural network component, *alexnet.features*, is used to compute convolutional features, which are\n",
        "taken as input in *alexnet.classifier*.\n",
        "\n",
        "The neural network alexnet.features expects an image tensor of shape Nx3x224x224 as input and it will\n",
        "output a tensor of shape Nx256x6x6 . (N = batch size).\n",
        "\n",
        "Compute the AlexNet features for each of your training, validation, and test data. Here is an example code\n",
        "snippet showing how you can compute the AlexNet features for some images (your actual code might be\n",
        "different):"
      ]
    },
    {
      "cell_type": "code",
      "metadata": {
        "id": "PEBG7Xd7Cj3e",
        "outputId": "5a6f11f3-2a8d-4638-bf16-897a76561ad4",
        "colab": {
          "base_uri": "https://localhost:8080/",
          "height": 476
        }
      },
      "source": [
        "alexnet"
      ],
      "execution_count": null,
      "outputs": [
        {
          "output_type": "execute_result",
          "data": {
            "text/plain": [
              "AlexNet(\n",
              "  (features): Sequential(\n",
              "    (0): Conv2d(3, 64, kernel_size=(11, 11), stride=(4, 4), padding=(2, 2))\n",
              "    (1): ReLU(inplace=True)\n",
              "    (2): MaxPool2d(kernel_size=3, stride=2, padding=0, dilation=1, ceil_mode=False)\n",
              "    (3): Conv2d(64, 192, kernel_size=(5, 5), stride=(1, 1), padding=(2, 2))\n",
              "    (4): ReLU(inplace=True)\n",
              "    (5): MaxPool2d(kernel_size=3, stride=2, padding=0, dilation=1, ceil_mode=False)\n",
              "    (6): Conv2d(192, 384, kernel_size=(3, 3), stride=(1, 1), padding=(1, 1))\n",
              "    (7): ReLU(inplace=True)\n",
              "    (8): Conv2d(384, 256, kernel_size=(3, 3), stride=(1, 1), padding=(1, 1))\n",
              "    (9): ReLU(inplace=True)\n",
              "    (10): Conv2d(256, 256, kernel_size=(3, 3), stride=(1, 1), padding=(1, 1))\n",
              "    (11): ReLU(inplace=True)\n",
              "    (12): MaxPool2d(kernel_size=3, stride=2, padding=0, dilation=1, ceil_mode=False)\n",
              "  )\n",
              "  (avgpool): AdaptiveAvgPool2d(output_size=(6, 6))\n",
              "  (classifier): Sequential(\n",
              "    (0): Dropout(p=0.5, inplace=False)\n",
              "    (1): Linear(in_features=9216, out_features=4096, bias=True)\n",
              "    (2): ReLU(inplace=True)\n",
              "    (3): Dropout(p=0.5, inplace=False)\n",
              "    (4): Linear(in_features=4096, out_features=4096, bias=True)\n",
              "    (5): ReLU(inplace=True)\n",
              "    (6): Linear(in_features=4096, out_features=1000, bias=True)\n",
              "  )\n",
              ")"
            ]
          },
          "metadata": {
            "tags": []
          },
          "execution_count": 36
        }
      ]
    },
    {
      "cell_type": "code",
      "metadata": {
        "id": "oX7SjVdB7XAE",
        "outputId": "55264f93-0a24-44c2-e49f-4ee79a295fc1",
        "colab": {
          "base_uri": "https://localhost:8080/",
          "height": 180
        }
      },
      "source": [
        "# img = ... a PyTorch tensor with shape [N,3,224,224] containing hand images ...\n",
        "features = alexnet.features(img)"
      ],
      "execution_count": null,
      "outputs": [
        {
          "output_type": "error",
          "ename": "NameError",
          "evalue": "ignored",
          "traceback": [
            "\u001b[0;31m---------------------------------------------------------------------------\u001b[0m",
            "\u001b[0;31mNameError\u001b[0m                                 Traceback (most recent call last)",
            "\u001b[0;32m<ipython-input-39-4be785f3ced5>\u001b[0m in \u001b[0;36m<module>\u001b[0;34m()\u001b[0m\n\u001b[1;32m      1\u001b[0m \u001b[0;31m# img = ... a PyTorch tensor with shape [N,3,224,224] containing hand images ...\u001b[0m\u001b[0;34m\u001b[0m\u001b[0;34m\u001b[0m\u001b[0;34m\u001b[0m\u001b[0m\n\u001b[0;32m----> 2\u001b[0;31m \u001b[0mfeatures\u001b[0m \u001b[0;34m=\u001b[0m \u001b[0malexnet\u001b[0m\u001b[0;34m.\u001b[0m\u001b[0mfeatures\u001b[0m\u001b[0;34m(\u001b[0m\u001b[0mimg\u001b[0m\u001b[0;34m)\u001b[0m\u001b[0;34m\u001b[0m\u001b[0;34m\u001b[0m\u001b[0m\n\u001b[0m",
            "\u001b[0;31mNameError\u001b[0m: name 'img' is not defined"
          ]
        }
      ]
    },
    {
      "cell_type": "markdown",
      "metadata": {
        "id": "DYcjHg_A7cCM"
      },
      "source": [
        "**Save the computed features**. You will be using these features as input to your neural network in Part\n",
        "(b), and you do not want to re-compute the features every time. Instead, run *alexnet.features* once for\n",
        "each image, and save the result."
      ]
    },
    {
      "cell_type": "code",
      "metadata": {
        "id": "TBo1BpL373LX",
        "outputId": "8dc20ebd-7843-4358-900b-b789f47b38a6",
        "colab": {
          "base_uri": "https://localhost:8080/",
          "height": 34
        }
      },
      "source": [
        "from google.colab import drive\n",
        "drive.mount('/content/drive')\n",
        "# define training and test data directories\n",
        "data_dir = '/content/drive/My Drive/Colab Notebooks/Lab_3b_Gesture_Dataset/'\n",
        "data_resize = transforms.Compose([transforms.Resize((224, 224)), transforms.ToTensor()])\n",
        "dataset_class = datasets.ImageFolder(data_dir,transform=data_resize)\n",
        "Letter_class = [\"A\",'B','C','D','E','F','G','H','I']\n",
        "Alex_dataloader = torch.utils.data.DataLoader(dataset_class, batch_size = 1, shuffle = False)\n",
        "def save_features():\n",
        "  i = 0\n",
        "  feature_dir = '/content/drive/My Drive/Colab Notebooks/feature_dir/'\n",
        "  tensor_list={}\n",
        "  for imgs,labels in Alex_dataloader:\n",
        "      i += 1\n",
        "      directory = os.path.join(feature_dir + str(int(labels[0])) +'/'+ str(i) +'.tensor')\n",
        "      \n",
        "\n",
        "      alex_feature = alexnet.features(imgs)\n",
        "      tensor = torch.from_numpy(alex_feature.detach().numpy())\n",
        "      torch.save(tensor,directory)\n",
        "  return \n",
        "save_features()   "
      ],
      "execution_count": 70,
      "outputs": [
        {
          "output_type": "stream",
          "text": [
            "Drive already mounted at /content/drive; to attempt to forcibly remount, call drive.mount(\"/content/drive\", force_remount=True).\n"
          ],
          "name": "stdout"
        }
      ]
    },
    {
      "cell_type": "code",
      "metadata": {
        "id": "ja3uPHwcd9U1"
      },
      "source": [
        "# define training and test data directories\n",
        "feature_dir = '/content/drive/My Drive/Colab Notebooks/feature_dir/'\n",
        "feature_dataset = datasets.DatasetFolder(feature_dir,loader = torch.load, extensions = '.tensor')\n",
        "\n",
        "def get_feature_loader(batch_size = 27):\n",
        "  \n",
        "  # Split into train and validation and test\n",
        "  indices = []\n",
        "  for i in range(len(feature_dataset)):\n",
        "    indices.append(i)\n",
        "  print(len(indices))\n",
        "  np.random.seed(1000) # Fixed numpy random seed for reproducible shuffling\n",
        "  np.random.shuffle(indices)\n",
        "  split0 = int(len(indices) * 0.7)\n",
        "  split1 = int(len(indices) * 0.9)\n",
        "  train_indices,val_indices,test_indices = indices[:split0],indices[split0:split1],indices[split1:]\n",
        "  print(\"length of train indices is \",len(train_indices))\n",
        "  train_sampler = SubsetRandomSampler(train_indices) \n",
        "  print(len(train_sampler))\n",
        "  train_feature_loader = torch.utils.data.DataLoader(feature_dataset, batch_size=batch_size,                     \n",
        "                                             num_workers=1, sampler=train_sampler)\n",
        "  \n",
        "  val_sampler = SubsetRandomSampler(val_indices)  \n",
        "  val_feature_loader = torch.utils.data.DataLoader(feature_dataset, batch_size=batch_size,            \n",
        "                                           num_workers=1, sampler=val_sampler) \n",
        "  \n",
        "  test_sampler = SubsetRandomSampler(test_indices)  \n",
        "  test_feature_loader = torch.utils.data.DataLoader(feature_dataset, batch_size=batch_size,            \n",
        "                                           num_workers=1, sampler=test_sampler) \n",
        "  # print out some data stats\n",
        "  print(\"Batch size is \",batch_size)\n",
        "  print('Num of batch, training images: ', len(train_feature_loader))\n",
        "  print('Num of batch, validation images: ', len(val_feature_loader))\n",
        "  print('Num of batch, test images: ', len(test_feature_loader))\n",
        "  return train_feature_loader,val_feature_loader,test_feature_loader"
      ],
      "execution_count": 71,
      "outputs": []
    },
    {
      "cell_type": "markdown",
      "metadata": {
        "id": "OFWvvhFN73qY"
      },
      "source": [
        "### Part (b) - 3 pt\n",
        "Build a convolutional neural network model that takes as input these AlexNet features, and makes a\n",
        "prediction. Your model should be a subclass of nn.Module.\n",
        "\n",
        "Explain your choice of neural network architecture: how many layers did you choose? What types of layers\n",
        "did you use: fully-connected or convolutional? What about other decisions like pooling layers, activation\n",
        "functions, number of channels / hidden units in each layer?\n",
        "\n",
        "Here is an example of how your model may be called:"
      ]
    },
    {
      "cell_type": "code",
      "metadata": {
        "id": "oVTuHUeV78-U"
      },
      "source": [
        "# features = ... load precomputed alexnet.features(img) ...\n",
        "output = model(features)\n",
        "prob = F.softmax(output)"
      ],
      "execution_count": null,
      "outputs": []
    },
    {
      "cell_type": "code",
      "metadata": {
        "id": "p3NxtH1bKuYD"
      },
      "source": [
        "class alexNet_classifier(nn.Module):\n",
        "    def __init__(self):\n",
        "        super(alexNet_classifier,self).__init__()\n",
        "        self.name=\"alex\"\n",
        "        self.fc1 = nn.Linear(256 * 6 * 6, 64)\n",
        "        self.fc2 = nn.Linear(64, 9)\n",
        "        \n",
        "    def forward(self,x):\n",
        "        x = x.view(-1, 256 * 6 * 6)\n",
        "        x = F.relu(self.fc1(x))\n",
        "        x = self.fc2(x)\n",
        "        return x"
      ],
      "execution_count": 72,
      "outputs": []
    },
    {
      "cell_type": "markdown",
      "metadata": {
        "id": "RWs4h-R-U8_Q"
      },
      "source": [
        "Two fully connected layers with Relu as activation function. Number of input for layer one is 256*6*6 = 9216. Number of hidden units selected is 64. For the second layer, the input is the 64 hidden units selected. And output are the probablities of classification into 9 letter clasess."
      ]
    },
    {
      "cell_type": "markdown",
      "metadata": {
        "id": "wVAGuURu7-9q"
      },
      "source": [
        "### Part (c) - 5 pt\n",
        "Train your new network, including any hyperparameter tuning. Plot and submit the training curve of your\n",
        "best model only.\n",
        "\n",
        "Note: Depending on how you are caching (saving) your AlexNet features, PyTorch might still be tracking\n",
        "updates to the **AlexNet weights**, which we are not tuning. One workaround is to convert your AlexNet\n",
        "feature tensor into a numpy array, and then back into a PyTorch tensor."
      ]
    },
    {
      "cell_type": "code",
      "metadata": {
        "id": "JCmiH11x7-q1"
      },
      "source": [
        "tensor = torch.from_numpy(tensor.detach().numpy())"
      ],
      "execution_count": null,
      "outputs": []
    },
    {
      "cell_type": "code",
      "metadata": {
        "id": "RaqeJ_WmRrke"
      },
      "source": [
        "def alex_get_accuracy(model, train=False, test=False):\n",
        "  \n",
        "    if train:\n",
        "       data_loader = train_loader2\n",
        "    else:\n",
        "       data_loader = val_loader2\n",
        "      \n",
        "    if test:\n",
        "       data_loader = test_loader2\n",
        "\n",
        "    correct = 0\n",
        "    total = 0\n",
        "    for imgs, labels in data_loader:\n",
        "   #############################################\n",
        "      #To Enable GPU Usage\n",
        "      if use_cuda and torch.cuda.is_available():\n",
        "        imgs = imgs.cuda()\n",
        "        labels = labels.cuda()\n",
        "   #############################################\n",
        "      output = model(imgs)\n",
        "      #select index with maximum prediction score\n",
        "      pred = output.max(1, keepdim=True)[1]\n",
        "      correct += pred.eq(labels.view_as(pred)).sum().item()\n",
        "      total += imgs.shape[0]\n",
        "    return correct / total"
      ],
      "execution_count": 73,
      "outputs": []
    },
    {
      "cell_type": "code",
      "metadata": {
        "id": "eK_TYIOQRviJ"
      },
      "source": [
        "def train_alex(model, batch_size=27,learning_rate = 0.01, num_epochs=1, plot = False):\n",
        "    criterion = nn.CrossEntropyLoss()\n",
        "    optimizer = optim.Adam(model.parameters(), lr=learning_rate)\n",
        "    \n",
        "    epochs,iters, losses, train_acc, val_acc = [], [], [], [],[]\n",
        "    torch.manual_seed(1000)\n",
        "    # training\n",
        "    n = 0 # the number of iterations\n",
        "    for epoch in range(num_epochs):\n",
        "        total_train_loss = 0.0\n",
        "        total_train_err = 0.0\n",
        "        total_epoch = 0\n",
        "        correct = 0\n",
        "        total = 0\n",
        "        train_acc_each_epoch = 0\n",
        "        a = 0\n",
        "       \n",
        "        for imgs, labels in iter(train_loader2):\n",
        "            #############################################\n",
        "            #To Enable GPU Usage\n",
        "            if use_cuda and torch.cuda.is_available():\n",
        "              imgs = imgs.cuda()\n",
        "              labels = labels.cuda()\n",
        "            #############################################\n",
        "            \n",
        "            out = model(imgs)             # forward pass\n",
        "            loss = criterion(out, labels) # compute the total loss\n",
        "            loss.backward()               # backward pass (compute parameter updates)\n",
        "            optimizer.step()              # make the updates for each parameter\n",
        "            optimizer.zero_grad()         # a clean up step for PyTorch\n",
        "\n",
        "            \n",
        "            # save the current training information\n",
        "            iters.append(n)\n",
        "            losses.append(float(loss)/batch_size)             # compute *average* loss\n",
        "            n += 1\n",
        "            a += 1\n",
        "            \n",
        "        epochs.append(epoch)\n",
        "        train_acc_each_epoch = alex_get_accuracy(model, train=True)\n",
        "        train_acc.append(train_acc_each_epoch)\n",
        "        val_acc_each_epoch = alex_get_accuracy(model, train=False)\n",
        "        val_acc.append(val_acc_each_epoch)\n",
        "        print((\"Epoch {}: Train accuracy: {},|\"+\n",
        "               \"Validation accuracy: {}\").format(\n",
        "                   epoch + 1,\n",
        "                   train_acc_each_epoch,\n",
        "                   val_acc_each_epoch))\n",
        "    if plot: \n",
        "        losses_epoch = losses[0::a]\n",
        "        # plotting\n",
        "        plt.title(\"Training Curve\")\n",
        "        plt.plot(epochs, losses_epoch, label=\"Train\")\n",
        "        plt.xlabel(\"Iterations\")\n",
        "        plt.ylabel(\"Loss\")\n",
        "        plt.show()\n",
        "\n",
        "        plt.title(\"Training Curve\")\n",
        "        plt.plot(epochs, train_acc, label=\"Train\")\n",
        "        plt.plot(epochs, val_acc, label=\"Validation\")\n",
        "        plt.xlabel(\"Iterations\")\n",
        "        plt.ylabel(\"Training Accuracy\")\n",
        "        plt.legend(loc='best')\n",
        "        plt.show()\n",
        "\n",
        "    print(\"Final Training Accuracy: {}\".format(train_acc[-1]))\n",
        "    print(\"Number of iteration is: \",n)"
      ],
      "execution_count": 74,
      "outputs": []
    },
    {
      "cell_type": "code",
      "metadata": {
        "id": "VVIGOfHtdePE"
      },
      "source": [
        ""
      ],
      "execution_count": null,
      "outputs": []
    },
    {
      "cell_type": "code",
      "metadata": {
        "id": "7pRqgruqV1iT",
        "outputId": "801ce1c2-49aa-4ca8-ea3f-c7079af6cc70",
        "colab": {
          "base_uri": "https://localhost:8080/",
          "height": 527
        }
      },
      "source": [
        "#Batch size to 64\n",
        "\n",
        "use_cuda = True\n",
        "train_loader2, val_loader2,test_loader2 = get_feature_loader(batch_size = 64)\n",
        "alex_net = alexNet_classifier()\n",
        "if use_cuda and torch.cuda.is_available():\n",
        "  alex_net.cuda()\n",
        "  print('CUDA is available!  Training on GPU ...')\n",
        "else:\n",
        "  print('CUDA is not available.  Training on CPU ...')\n",
        "  \n",
        "train_alex(alex_net, batch_size = 64, learning_rate = 0.001, num_epochs=20)"
      ],
      "execution_count": 83,
      "outputs": [
        {
          "output_type": "stream",
          "text": [
            "2431\n",
            "length of train indices is  1701\n",
            "1701\n",
            "Batch size is  64\n",
            "Num of batch, training images:  27\n",
            "Num of batch, validation images:  8\n",
            "Num of batch, test images:  4\n",
            "CUDA is available!  Training on GPU ...\n",
            "Epoch 1: Train accuracy: 0.908289241622575,|Validation accuracy: 0.8600823045267489\n",
            "Epoch 2: Train accuracy: 0.9594356261022927,|Validation accuracy: 0.9074074074074074\n",
            "Epoch 3: Train accuracy: 0.9811875367430923,|Validation accuracy: 0.9238683127572016\n",
            "Epoch 4: Train accuracy: 0.9929453262786596,|Validation accuracy: 0.9300411522633745\n",
            "Epoch 5: Train accuracy: 0.9994121105232217,|Validation accuracy: 0.9403292181069959\n",
            "Epoch 6: Train accuracy: 0.9988242210464433,|Validation accuracy: 0.9423868312757202\n",
            "Epoch 7: Train accuracy: 1.0,|Validation accuracy: 0.9465020576131687\n",
            "Epoch 8: Train accuracy: 1.0,|Validation accuracy: 0.9423868312757202\n",
            "Epoch 9: Train accuracy: 1.0,|Validation accuracy: 0.9403292181069959\n",
            "Epoch 10: Train accuracy: 1.0,|Validation accuracy: 0.948559670781893\n",
            "Epoch 11: Train accuracy: 1.0,|Validation accuracy: 0.9444444444444444\n",
            "Epoch 12: Train accuracy: 1.0,|Validation accuracy: 0.9465020576131687\n",
            "Epoch 13: Train accuracy: 1.0,|Validation accuracy: 0.9465020576131687\n",
            "Epoch 14: Train accuracy: 1.0,|Validation accuracy: 0.9465020576131687\n",
            "Epoch 15: Train accuracy: 1.0,|Validation accuracy: 0.9444444444444444\n",
            "Epoch 16: Train accuracy: 1.0,|Validation accuracy: 0.948559670781893\n",
            "Epoch 17: Train accuracy: 1.0,|Validation accuracy: 0.9506172839506173\n",
            "Epoch 18: Train accuracy: 1.0,|Validation accuracy: 0.9444444444444444\n",
            "Epoch 19: Train accuracy: 1.0,|Validation accuracy: 0.948559670781893\n",
            "Epoch 20: Train accuracy: 1.0,|Validation accuracy: 0.9465020576131687\n",
            "Final Training Accuracy: 1.0\n",
            "Number of iteration is:  540\n"
          ],
          "name": "stdout"
        }
      ]
    },
    {
      "cell_type": "code",
      "metadata": {
        "id": "i6--NQtOV-2m",
        "outputId": "2f1f1fc5-319b-4480-f0dc-3f6f5c9acc04",
        "colab": {
          "base_uri": "https://localhost:8080/",
          "height": 527
        }
      },
      "source": [
        "#Batch size to 32\n",
        "use_cuda = True\n",
        "train_loader2, val_loader2,test_loader2 = get_feature_loader(batch_size = 32)\n",
        "alex_net = alexNet_classifier()\n",
        "if use_cuda and torch.cuda.is_available():\n",
        "  alex_net.cuda()\n",
        "  print('CUDA is available!  Training on GPU ...')\n",
        "else:\n",
        "  print('CUDA is not available.  Training on CPU ...')\n",
        "  \n",
        "train_alex(alex_net, batch_size = 32, learning_rate = 0.001, num_epochs=20)"
      ],
      "execution_count": 77,
      "outputs": [
        {
          "output_type": "stream",
          "text": [
            "2431\n",
            "length of train indices is  1701\n",
            "1701\n",
            "Batch size is  32\n",
            "Num of batch, training images:  54\n",
            "Num of batch, validation images:  16\n",
            "Num of batch, test images:  8\n",
            "CUDA is available!  Training on GPU ...\n",
            "Epoch 1: Train accuracy: 0.9318048206937096,|Validation accuracy: 0.8786008230452675\n",
            "Epoch 2: Train accuracy: 0.9800117577895355,|Validation accuracy: 0.9197530864197531\n",
            "Epoch 3: Train accuracy: 0.9882422104644327,|Validation accuracy: 0.9197530864197531\n",
            "Epoch 4: Train accuracy: 0.9952968841857731,|Validation accuracy: 0.9362139917695473\n",
            "Epoch 5: Train accuracy: 0.9994121105232217,|Validation accuracy: 0.948559670781893\n",
            "Epoch 6: Train accuracy: 1.0,|Validation accuracy: 0.9444444444444444\n",
            "Epoch 7: Train accuracy: 1.0,|Validation accuracy: 0.948559670781893\n",
            "Epoch 8: Train accuracy: 1.0,|Validation accuracy: 0.9444444444444444\n",
            "Epoch 9: Train accuracy: 1.0,|Validation accuracy: 0.948559670781893\n",
            "Epoch 10: Train accuracy: 1.0,|Validation accuracy: 0.9506172839506173\n",
            "Epoch 11: Train accuracy: 1.0,|Validation accuracy: 0.948559670781893\n",
            "Epoch 12: Train accuracy: 1.0,|Validation accuracy: 0.9465020576131687\n",
            "Epoch 13: Train accuracy: 1.0,|Validation accuracy: 0.9506172839506173\n",
            "Epoch 14: Train accuracy: 1.0,|Validation accuracy: 0.9506172839506173\n",
            "Epoch 15: Train accuracy: 1.0,|Validation accuracy: 0.9506172839506173\n",
            "Epoch 16: Train accuracy: 1.0,|Validation accuracy: 0.948559670781893\n",
            "Epoch 17: Train accuracy: 1.0,|Validation accuracy: 0.9506172839506173\n",
            "Epoch 18: Train accuracy: 1.0,|Validation accuracy: 0.9465020576131687\n",
            "Epoch 19: Train accuracy: 1.0,|Validation accuracy: 0.9506172839506173\n",
            "Epoch 20: Train accuracy: 1.0,|Validation accuracy: 0.948559670781893\n",
            "Final Training Accuracy: 1.0\n",
            "Number of iteration is:  1080\n"
          ],
          "name": "stdout"
        }
      ]
    },
    {
      "cell_type": "code",
      "metadata": {
        "id": "O5I_PDG1WFck",
        "outputId": "bc0c91e0-1519-4ba4-e9d1-9364b2a4a95d",
        "colab": {
          "base_uri": "https://localhost:8080/",
          "height": 527
        }
      },
      "source": [
        "#learning rate to 0.0015\n",
        "use_cuda = True\n",
        "train_loader2, val_loader2,test_loader2 = get_feature_loader(batch_size = 32)\n",
        "alex_net = alexNet_classifier()\n",
        "if use_cuda and torch.cuda.is_available():\n",
        "  alex_net.cuda()\n",
        "  print('CUDA is available!  Training on GPU ...')\n",
        "else:\n",
        "  print('CUDA is not available.  Training on CPU ...')\n",
        "\n",
        "train_alex(alex_net, batch_size = 54, learning_rate = 0.0015, num_epochs=20)"
      ],
      "execution_count": 78,
      "outputs": [
        {
          "output_type": "stream",
          "text": [
            "2431\n",
            "length of train indices is  1701\n",
            "1701\n",
            "Batch size is  32\n",
            "Num of batch, training images:  54\n",
            "Num of batch, validation images:  16\n",
            "Num of batch, test images:  8\n",
            "CUDA is available!  Training on GPU ...\n",
            "Epoch 1: Train accuracy: 0.9353321575543798,|Validation accuracy: 0.8868312757201646\n",
            "Epoch 2: Train accuracy: 0.9782480893592005,|Validation accuracy: 0.9135802469135802\n",
            "Epoch 3: Train accuracy: 0.9864785420340976,|Validation accuracy: 0.9279835390946503\n",
            "Epoch 4: Train accuracy: 0.9941211052322163,|Validation accuracy: 0.9362139917695473\n",
            "Epoch 5: Train accuracy: 0.9994121105232217,|Validation accuracy: 0.948559670781893\n",
            "Epoch 6: Train accuracy: 1.0,|Validation accuracy: 0.948559670781893\n",
            "Epoch 7: Train accuracy: 1.0,|Validation accuracy: 0.948559670781893\n",
            "Epoch 8: Train accuracy: 1.0,|Validation accuracy: 0.9465020576131687\n",
            "Epoch 9: Train accuracy: 1.0,|Validation accuracy: 0.9506172839506173\n",
            "Epoch 10: Train accuracy: 1.0,|Validation accuracy: 0.948559670781893\n",
            "Epoch 11: Train accuracy: 1.0,|Validation accuracy: 0.948559670781893\n",
            "Epoch 12: Train accuracy: 1.0,|Validation accuracy: 0.948559670781893\n",
            "Epoch 13: Train accuracy: 1.0,|Validation accuracy: 0.9506172839506173\n",
            "Epoch 14: Train accuracy: 1.0,|Validation accuracy: 0.9506172839506173\n",
            "Epoch 15: Train accuracy: 1.0,|Validation accuracy: 0.948559670781893\n",
            "Epoch 16: Train accuracy: 1.0,|Validation accuracy: 0.9506172839506173\n",
            "Epoch 17: Train accuracy: 1.0,|Validation accuracy: 0.9526748971193416\n",
            "Epoch 18: Train accuracy: 1.0,|Validation accuracy: 0.9547325102880658\n",
            "Epoch 19: Train accuracy: 1.0,|Validation accuracy: 0.9526748971193416\n",
            "Epoch 20: Train accuracy: 1.0,|Validation accuracy: 0.9526748971193416\n",
            "Final Training Accuracy: 1.0\n",
            "Number of iteration is:  1080\n"
          ],
          "name": "stdout"
        }
      ]
    },
    {
      "cell_type": "code",
      "metadata": {
        "id": "54TbocQVWOdU",
        "outputId": "0bc7f9a2-a2a9-4ab1-e135-b5aba8263fd4",
        "colab": {
          "base_uri": "https://localhost:8080/",
          "height": 527
        }
      },
      "source": [
        "#learning rate to 0.005\n",
        "use_cuda = True\n",
        "train_loader2, val_loader2,test_loader2 = get_feature_loader(batch_size = 32)\n",
        "alex_net = alexNet_classifier()\n",
        "if use_cuda and torch.cuda.is_available():\n",
        "  alex_net.cuda()\n",
        "  print('CUDA is available!  Training on GPU ...')\n",
        "else:\n",
        "  print('CUDA is not available.  Training on CPU ...')\n",
        "\n",
        "train_alex(alex_net, batch_size = 54, learning_rate = 0.005, num_epochs=20)"
      ],
      "execution_count": 79,
      "outputs": [
        {
          "output_type": "stream",
          "text": [
            "2431\n",
            "length of train indices is  1701\n",
            "1701\n",
            "Batch size is  32\n",
            "Num of batch, training images:  54\n",
            "Num of batch, validation images:  16\n",
            "Num of batch, test images:  8\n",
            "CUDA is available!  Training on GPU ...\n",
            "Epoch 1: Train accuracy: 0.9077013521457966,|Validation accuracy: 0.8641975308641975\n",
            "Epoch 2: Train accuracy: 0.9447383891828336,|Validation accuracy: 0.8600823045267489\n",
            "Epoch 3: Train accuracy: 0.9723691945914168,|Validation accuracy: 0.9032921810699589\n",
            "Epoch 4: Train accuracy: 0.9952968841857731,|Validation accuracy: 0.9362139917695473\n",
            "Epoch 5: Train accuracy: 0.9988242210464433,|Validation accuracy: 0.9403292181069959\n",
            "Epoch 6: Train accuracy: 0.9994121105232217,|Validation accuracy: 0.9238683127572016\n",
            "Epoch 7: Train accuracy: 1.0,|Validation accuracy: 0.9444444444444444\n",
            "Epoch 8: Train accuracy: 1.0,|Validation accuracy: 0.9465020576131687\n",
            "Epoch 9: Train accuracy: 1.0,|Validation accuracy: 0.948559670781893\n",
            "Epoch 10: Train accuracy: 1.0,|Validation accuracy: 0.948559670781893\n",
            "Epoch 11: Train accuracy: 1.0,|Validation accuracy: 0.9547325102880658\n",
            "Epoch 12: Train accuracy: 1.0,|Validation accuracy: 0.9506172839506173\n",
            "Epoch 13: Train accuracy: 1.0,|Validation accuracy: 0.948559670781893\n",
            "Epoch 14: Train accuracy: 1.0,|Validation accuracy: 0.9465020576131687\n",
            "Epoch 15: Train accuracy: 1.0,|Validation accuracy: 0.9506172839506173\n",
            "Epoch 16: Train accuracy: 1.0,|Validation accuracy: 0.9506172839506173\n",
            "Epoch 17: Train accuracy: 1.0,|Validation accuracy: 0.9526748971193416\n",
            "Epoch 18: Train accuracy: 1.0,|Validation accuracy: 0.9465020576131687\n",
            "Epoch 19: Train accuracy: 1.0,|Validation accuracy: 0.9506172839506173\n",
            "Epoch 20: Train accuracy: 1.0,|Validation accuracy: 0.948559670781893\n",
            "Final Training Accuracy: 1.0\n",
            "Number of iteration is:  1080\n"
          ],
          "name": "stdout"
        }
      ]
    },
    {
      "cell_type": "code",
      "metadata": {
        "id": "V1bfZuZzWmNh",
        "outputId": "bdcccc77-eb11-47b3-a184-26368fa093f3",
        "colab": {
          "base_uri": "https://localhost:8080/",
          "height": 1000
        }
      },
      "source": [
        "##### The best model is to increase batch size to 64 #####\n",
        "use_cuda = True\n",
        "train_loader2, val_loader2,test_loader2 = get_feature_loader(batch_size = 64)\n",
        "\n",
        "best = alexNet_classifier()\n",
        "if use_cuda and torch.cuda.is_available():\n",
        "  best.cuda()\n",
        "  print('CUDA is available!  Training on GPU ...')\n",
        "else:\n",
        "  print('CUDA is not available.  Training on CPU ...')\n",
        "  \n",
        "#proper model\n",
        "train_alex(best, batch_size = 64, learning_rate = 0.001, num_epochs=20,plot = True)"
      ],
      "execution_count": 82,
      "outputs": [
        {
          "output_type": "stream",
          "text": [
            "2431\n",
            "length of train indices is  1701\n",
            "1701\n",
            "Batch size is  64\n",
            "Num of batch, training images:  27\n",
            "Num of batch, validation images:  8\n",
            "Num of batch, test images:  4\n",
            "CUDA is available!  Training on GPU ...\n",
            "Epoch 1: Train accuracy: 0.8977072310405644,|Validation accuracy: 0.8477366255144033\n",
            "Epoch 2: Train accuracy: 0.9529688418577308,|Validation accuracy: 0.8930041152263375\n",
            "Epoch 3: Train accuracy: 0.9688418577307466,|Validation accuracy: 0.911522633744856\n",
            "Epoch 4: Train accuracy: 0.9882422104644327,|Validation accuracy: 0.934156378600823\n",
            "Epoch 5: Train accuracy: 0.9976484420928865,|Validation accuracy: 0.9362139917695473\n",
            "Epoch 6: Train accuracy: 0.9988242210464433,|Validation accuracy: 0.9506172839506173\n",
            "Epoch 7: Train accuracy: 1.0,|Validation accuracy: 0.9423868312757202\n",
            "Epoch 8: Train accuracy: 1.0,|Validation accuracy: 0.9444444444444444\n",
            "Epoch 9: Train accuracy: 1.0,|Validation accuracy: 0.948559670781893\n",
            "Epoch 10: Train accuracy: 1.0,|Validation accuracy: 0.9423868312757202\n",
            "Epoch 11: Train accuracy: 1.0,|Validation accuracy: 0.948559670781893\n",
            "Epoch 12: Train accuracy: 1.0,|Validation accuracy: 0.9526748971193416\n",
            "Epoch 13: Train accuracy: 1.0,|Validation accuracy: 0.9465020576131687\n",
            "Epoch 14: Train accuracy: 1.0,|Validation accuracy: 0.9526748971193416\n",
            "Epoch 15: Train accuracy: 1.0,|Validation accuracy: 0.948559670781893\n",
            "Epoch 16: Train accuracy: 1.0,|Validation accuracy: 0.9526748971193416\n",
            "Epoch 17: Train accuracy: 1.0,|Validation accuracy: 0.9506172839506173\n",
            "Epoch 18: Train accuracy: 1.0,|Validation accuracy: 0.9506172839506173\n",
            "Epoch 19: Train accuracy: 1.0,|Validation accuracy: 0.9506172839506173\n",
            "Epoch 20: Train accuracy: 1.0,|Validation accuracy: 0.948559670781893\n"
          ],
          "name": "stdout"
        },
        {
          "output_type": "display_data",
          "data": {
            "image/png": "[encoded data removed]",
            "text/plain": [
              "<Figure size 432x288 with 1 Axes>"
            ]
          },
          "metadata": {
            "tags": [],
            "needs_background": "light"
          }
        },
        {
          "output_type": "display_data",
          "data": {
            "image/png": "[encoded data removed]",
            "text/plain": [
              "<Figure size 432x288 with 1 Axes>"
            ]
          },
          "metadata": {
            "tags": [],
            "needs_background": "light"
          }
        },
        {
          "output_type": "stream",
          "text": [
            "Final Training Accuracy: 1.0\n",
            "Number of iteration is:  540\n"
          ],
          "name": "stdout"
        }
      ]
    },
    {
      "cell_type": "markdown",
      "metadata": {
        "id": "hQ2tvqJ68Mqb"
      },
      "source": [
        "### Part (d) - 2 pt\n",
        "Report the test accuracy of your best model. How does the test accuracy compare to Part 3(d) without transfer learning?"
      ]
    },
    {
      "cell_type": "code",
      "metadata": {
        "id": "yCp_kFSg8Q2T",
        "outputId": "87614001-d06c-4499-f2a8-a359d2e5caf4",
        "colab": {
          "base_uri": "https://localhost:8080/",
          "height": 34
        }
      },
      "source": [
        "alex_test_acc= alex_get_accuracy(best, train=False, test=True)\n",
        "print(\"Test acc is \",alex_test_acc)"
      ],
      "execution_count": 85,
      "outputs": [
        {
          "output_type": "stream",
          "text": [
            "Test acc is  0.9631147540983607\n"
          ],
          "name": "stdout"
        }
      ]
    },
    {
      "cell_type": "markdown",
      "metadata": {
        "id": "SK40kqIYW8Xe"
      },
      "source": [
        "Using the alex net model yields a much better result. Test accuracy rose from 0.71 to 0.96."
      ]
    },
    {
      "cell_type": "markdown",
      "metadata": {
        "id": "jj3TwR-h9Cd8"
      },
      "source": [
        "### 5. Additional Testing [5 pt]\n",
        "As a final step in testing we will be revisiting the sample images that you had collected and submitted at the start of this lab. These sample images should be untouched and will be used to demonstrate how well your model works at identifying your hand guestures. \n",
        "\n",
        "Using the best transfer learning model developed in Part 4. Report the test accuracy on your sample images and how it compares to the test accuracy obtained in Part 4(d)? How well did your model do for the different hand guestures? Provide an explanation for why you think your model performed the way it did?"
      ]
    },
    {
      "cell_type": "code",
      "metadata": {
        "id": "Eho_eT-79Cd9",
        "outputId": "0bb337d5-be70-4d6e-f416-039d657f7ec6",
        "colab": {
          "base_uri": "https://localhost:8080/",
          "height": 51
        }
      },
      "source": [
        "# mount our Google Drive\n",
        "from google.colab import drive\n",
        "drive.mount('/content/drive')\n",
        "# define training and test data directories\n",
        "data_dir = '/content/drive/My Drive/Colab Notebooks/lab_3b_Small_Dataset/'\n",
        "letter_classes = [\"A\",'B','C','D','E','F','G','H','I']\n",
        "#Image handling and pass it to the train function.\n",
        "data_resize = transforms.Compose([transforms.Resize((224, 224)), transforms.ToTensor()])\n",
        "dataset_class = datasets.ImageFolder(data_dir,transform=data_resize)\n",
        "print('Num training images: ', len(dataset_class))\n"
      ],
      "execution_count": 88,
      "outputs": [
        {
          "output_type": "stream",
          "text": [
            "Drive already mounted at /content/drive; to attempt to forcibly remount, call drive.mount(\"/content/drive\", force_remount=True).\n",
            "Num training images:  27\n"
          ],
          "name": "stdout"
        }
      ]
    },
    {
      "cell_type": "code",
      "metadata": {
        "id": "3GNocPAHZJMy",
        "outputId": "b3fda3eb-0c3f-4c94-ed51-378a9961dfa8",
        "colab": {
          "base_uri": "https://localhost:8080/",
          "height": 34
        }
      },
      "source": [
        "Alex_dataloader2 = torch.utils.data.DataLoader(dataset_class, batch_size = 1, shuffle = False)\n",
        "print(len(Alex_dataloader2))\n",
        "def save_features2():\n",
        "  i = 0\n",
        "  feature_dir2 = '/content/drive/My Drive/Colab Notebooks/feature_dir_small/'\n",
        "  for imgs,labels in Alex_dataloader2:\n",
        "      #print(labels[0])\n",
        "      #print(labels[0].item)\n",
        "      i += 1\n",
        "      directory = os.path.join(feature_dir2 + str(int(labels[0])) +'/'+ str(i) +'.tensor')\n",
        "\n",
        "      temp_feature = alexnet.features(imgs)\n",
        "      tensor = torch.from_numpy(temp_feature.detach().numpy())\n",
        "\n",
        "      torch.save(tensor,directory)\n",
        "  return \n",
        "\n",
        "save_features2()   "
      ],
      "execution_count": 90,
      "outputs": [
        {
          "output_type": "stream",
          "text": [
            "27\n"
          ],
          "name": "stdout"
        }
      ]
    },
    {
      "cell_type": "code",
      "metadata": {
        "id": "TRU5o_1nbFUB"
      },
      "source": [
        "# define training and test data directories\n",
        "feature_dir2 = '/content/drive/My Drive/Colab Notebooks/feature_dir_small/'\n",
        "data_transform = transforms.Compose([transforms.Resize((224, 224)), transforms.ToTensor()]) \n",
        "feature_dataset2 = datasets.DatasetFolder(feature_dir2,loader = torch.load, extensions = '.tensor')\n",
        "\n",
        "def get_feature_loader2(batch_size = 27):\n",
        "  \n",
        "  # Split into train and validation and test\n",
        "  indices = []\n",
        "  for i in range(len(feature_dataset2)):\n",
        "    indices.append(i)\n",
        "  print(len(indices))\n",
        "  np.random.seed(1000) # Fixed numpy random seed for reproducible shuffling\n",
        "  np.random.shuffle(indices)\n",
        "  split0 = int(len(indices) * 0.7)\n",
        "  split1 = int(len(indices) * 0.9)\n",
        "  train_indices,val_indices,test_indices = indices[:split0],indices[split0:split1],indices[split1:]\n",
        "  print(\"length of train indices is \",len(train_indices))\n",
        "  train_sampler = SubsetRandomSampler(train_indices) \n",
        "  print(len(train_sampler))\n",
        "  train_feature_loader = torch.utils.data.DataLoader(feature_dataset2, batch_size=batch_size,                     \n",
        "                                             num_workers=1, sampler=train_sampler)\n",
        "  \n",
        "  val_sampler = SubsetRandomSampler(val_indices)  \n",
        "  val_feature_loader = torch.utils.data.DataLoader(feature_dataset2, batch_size=batch_size,            \n",
        "                                           num_workers=1, sampler=val_sampler) \n",
        "  \n",
        "  test_sampler = SubsetRandomSampler(test_indices)  \n",
        "  test_feature_loader = torch.utils.data.DataLoader(feature_dataset2, batch_size=batch_size,            \n",
        "                                           num_workers=1, sampler=test_sampler) \n",
        "  # print out some data stats\n",
        "  print(\"Batch size is \",batch_size)\n",
        "  print('Num of batch, training images: ', len(train_feature_loader))\n",
        "  print('Num of batch, validation images: ', len(val_feature_loader))\n",
        "  print('Num of batch, test images: ', len(test_feature_loader))\n",
        "  return train_feature_loader,val_feature_loader,test_feature_loader"
      ],
      "execution_count": 92,
      "outputs": []
    },
    {
      "cell_type": "code",
      "metadata": {
        "id": "hhwcKM0hZLE5",
        "outputId": "e629da0f-c294-4305-9182-da4e1cabe959",
        "colab": {
          "base_uri": "https://localhost:8080/",
          "height": 1000
        }
      },
      "source": [
        "\n",
        "##### The best model is to increase batch size to 64 #####\n",
        "use_cuda = False\n",
        "train_loader2, val_loader2,test_loader2 = get_feature_loader2(batch_size = 64)\n",
        "\n",
        "alex_batch_64 = alexNet_classifier()\n",
        "#if use_cuda and torch.cuda.is_available():\n",
        "  #best.cuda()\n",
        "  #print('CUDA is available!  Training on GPU ...')\n",
        "#else:\n",
        " # print('CUDA is not available.  Training on CPU ...')\n",
        "  \n",
        "#proper model\n",
        "train_alex(alex_batch_64, batch_size = 64, learning_rate = 0.001, num_epochs=20,plot = True)\n",
        "alex_test_acc= alex_get_accuracy(alex_batch_64, train=False, test=True)\n",
        "print(\"Test acc is \",alex_test_acc)"
      ],
      "execution_count": 107,
      "outputs": [
        {
          "output_type": "stream",
          "text": [
            "27\n",
            "length of train indices is  18\n",
            "18\n",
            "Batch size is  64\n",
            "Num of batch, training images:  1\n",
            "Num of batch, validation images:  1\n",
            "Num of batch, test images:  1\n",
            "Epoch 1: Train accuracy: 0.2777777777777778,|Validation accuracy: 0.0\n",
            "Epoch 2: Train accuracy: 0.8333333333333334,|Validation accuracy: 0.5\n",
            "Epoch 3: Train accuracy: 0.9444444444444444,|Validation accuracy: 0.6666666666666666\n",
            "Epoch 4: Train accuracy: 0.9444444444444444,|Validation accuracy: 0.5\n",
            "Epoch 5: Train accuracy: 1.0,|Validation accuracy: 0.6666666666666666\n",
            "Epoch 6: Train accuracy: 1.0,|Validation accuracy: 0.6666666666666666\n",
            "Epoch 7: Train accuracy: 1.0,|Validation accuracy: 0.6666666666666666\n",
            "Epoch 8: Train accuracy: 1.0,|Validation accuracy: 0.6666666666666666\n",
            "Epoch 9: Train accuracy: 1.0,|Validation accuracy: 0.6666666666666666\n",
            "Epoch 10: Train accuracy: 1.0,|Validation accuracy: 0.6666666666666666\n",
            "Epoch 11: Train accuracy: 1.0,|Validation accuracy: 0.8333333333333334\n",
            "Epoch 12: Train accuracy: 1.0,|Validation accuracy: 0.8333333333333334\n",
            "Epoch 13: Train accuracy: 1.0,|Validation accuracy: 0.8333333333333334\n",
            "Epoch 14: Train accuracy: 1.0,|Validation accuracy: 0.8333333333333334\n",
            "Epoch 15: Train accuracy: 1.0,|Validation accuracy: 0.8333333333333334\n",
            "Epoch 16: Train accuracy: 1.0,|Validation accuracy: 0.8333333333333334\n",
            "Epoch 17: Train accuracy: 1.0,|Validation accuracy: 0.8333333333333334\n",
            "Epoch 18: Train accuracy: 1.0,|Validation accuracy: 0.8333333333333334\n",
            "Epoch 19: Train accuracy: 1.0,|Validation accuracy: 0.8333333333333334\n",
            "Epoch 20: Train accuracy: 1.0,|Validation accuracy: 0.8333333333333334\n"
          ],
          "name": "stdout"
        },
        {
          "output_type": "display_data",
          "data": {
            "image/png": "[encoded data removed]",
            "text/plain": [
              "<Figure size 432x288 with 1 Axes>"
            ]
          },
          "metadata": {
            "tags": [],
            "needs_background": "light"
          }
        },
        {
          "output_type": "display_data",
          "data": {
            "image/png": "[encoded data removed]",
            "text/plain": [
              "<Figure size 432x288 with 1 Axes>"
            ]
          },
          "metadata": {
            "tags": [],
            "needs_background": "light"
          }
        },
        {
          "output_type": "stream",
          "text": [
            "Final Training Accuracy: 1.0\n",
            "Number of iteration is:  20\n",
            "Test acc is  1.0\n"
          ],
          "name": "stdout"
        }
      ]
    },
    {
      "cell_type": "markdown",
      "metadata": {
        "id": "sMkedVSO7S__"
      },
      "source": [
        "Training accuracy is 100% meaning it successfully recognized the 3 images in the testing set. However, valiadation accuracy capped at 0.83. Potential reason could be the gesture in the image was an outlier meaning it is not as standard as other gestures in the image for the particular letter while that particular letter did not appear in the testing set."
      ]
    }
  ]
}